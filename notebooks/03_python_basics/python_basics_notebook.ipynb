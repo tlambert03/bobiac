{
 "cells": [
  {
   "cell_type": "markdown",
   "id": "16a60488",
   "metadata": {},
   "source": [
    "# The Python Basics Notebook"
   ]
  },
  {
   "cell_type": "code",
   "execution_count": 1,
   "id": "9f33553a",
   "metadata": {},
   "outputs": [],
   "source": [
    "# /// script\n",
    "# requires-python = \">=3.10\"\n",
    "# ///\n",
    "\n",
    "# Standard library imports (no need to declare in dependencies)"
   ]
  },
  {
   "cell_type": "markdown",
   "id": "0ab370b9",
   "metadata": {},
   "source": [
    "## <mark style=\"color: black; background-color: rgb(127,196,125); padding: 3px; border-radius: 5px;\">Overview</mark>\n",
    "Welcome to your next step in learning Python!  \n",
    "This notebook is written **like a small interactive book** to complement the lecture.\n",
    "\n",
    "This notebook covers the following **core building blocks**:\n",
    "\n",
    "| Chapter | Concept | Why it matters |\n",
    "|---------|---------|----------------|\n",
    "| 0 | [Commenting & Printing](#0.-Commenting-&-Printing) | Learn how to annotate your code to make it more readable |\n",
    "| 1 | [Data Types](#1-data-types) | Understand the different types of values in Python |\n",
    "| 2 | [Variables](#2-variables) | Store and label values |\n",
    "| 3 | [Operators](#3-operators) | Learn how to perform operations on variables & values |\n",
    "| 4 | [Data Structures](#4-data-structures) | Organizing values in Python |\n",
    "| 5 | [Data Structures: Lists](#5-data-structures-lists) | An ordered container of values |\n",
    "| 6 | [Data Structures: Tuples](#6-data-structures-tuples) | An ordered, immutable container of values |\n",
    "| 7 | [Data Structures: Dictionaries](#7-data-structures-dictionaries) | A key-value container |\n",
    "| 8 | [Data Structures: Sets](#8-data-structures-sets) | An unordered, unique set of values |\n",
    "| 9 | [For Loops](#9-for-loops) | Learn how to automate repetitive tasks |\n",
    "| 10 | [If Statements](#10-if-statements) | Conduct conditional tasks |\n",
    "| 11 | [Functions](#11-functions) | Package code into reusable, testable actions |\n",
    "\n",
    "Each chapter has:\n",
    "\n",
    "1. **Narrative explanation** – read this like a textbook.\n",
    "2. **📓 Examples** – run and play.\n",
    "3. **✍️ Exercises** – your turn & guess the output!"
   ]
  },
  {
   "cell_type": "markdown",
   "id": "19f7c0e0",
   "metadata": {},
   "source": [
    "***"
   ]
  },
  {
   "cell_type": "markdown",
   "id": "5eaf93b8",
   "metadata": {},
   "source": [
    "## <mark style=\"color: black; background-color: rgb(127,196,125); padding: 3px; border-radius: 5px;\">0. Commenting & Printing</mark>"
   ]
  },
  {
   "cell_type": "markdown",
   "id": "66cd7d03",
   "metadata": {},
   "source": [
    "**Concept.**  \n",
    "**Comments** are lines of text in your code that are ignored by the computer. They are written in plain language and are meant to explain what your code is doing. Comments help make your code easier to understand--for both future you and other people reading it. Comments can also be used to prevent running lines of code."
   ]
  },
  {
   "cell_type": "markdown",
   "id": "8763a12b2bbd4a93a75aff182afb95dc",
   "metadata": {},
   "source": [
    "### <mark style=\"color: black; background-color: rgb(190,223,185); padding: 3px; border-radius: 5px;\">How to make a comment in Python</mark>\n",
    "To write a comment, start the line with a hashtag #. Anything after the # is ignored by Python.\n",
    "```python\n",
    "# This is a comment\n",
    "```"
   ]
  },
  {
   "cell_type": "markdown",
   "id": "1a55af85",
   "metadata": {},
   "source": [
    "### <mark style=\"color: black; background-color: rgb(126,172,182); padding: 3px; border-radius: 5px;\">📓 Example: Making a comment</mark>"
   ]
  },
  {
   "cell_type": "code",
   "execution_count": null,
   "id": "2bb735aa",
   "metadata": {},
   "outputs": [],
   "source": [
    "# Monday, July 14, 2025"
   ]
  },
  {
   "cell_type": "markdown",
   "id": "7623eae2785240b9bd12b16a66d81610",
   "metadata": {},
   "source": [
    "### <mark style=\"color: black; background-color: rgb(190,223,185); padding: 3px; border-radius: 5px;\">Where to place comments in Python</mark>\n",
    "You can place comments as their own line or at the end of a line of code. \n",
    "\n",
    "```python\n",
    "# This is a comment\n",
    "print(\"Hello, World!\")  # This is also a comment\n",
    "```"
   ]
  },
  {
   "cell_type": "markdown",
   "id": "6f1af5c6",
   "metadata": {},
   "source": [
    "### <mark style=\"color: black; background-color: rgb(190,223,185); padding: 3px; border-radius: 5px;\">Printing</mark>\n",
    "In Python, `print()` is a built-in function that displays whatever you put inside it on the screen. It is a very useful tool for writing and testing code, as we will see throughout this lesson!\n"
   ]
  },
  {
   "cell_type": "markdown",
   "id": "7cdc8c89c7104fffa095e18ddfef8986",
   "metadata": {},
   "source": [
    "### <mark style=\"color: black; background-color: rgb(126,172,182); padding: 3px; border-radius: 5px;\">📓 Example: Printing</mark>\n",
    "\n",
    "Run the code block below to use `print()` to print \"Hello, World!\""
   ]
  },
  {
   "cell_type": "code",
   "execution_count": null,
   "id": "b118ea5561624da68c537baed56e602f",
   "metadata": {},
   "outputs": [],
   "source": [
    "print(\"Hello, World!\")"
   ]
  },
  {
   "cell_type": "markdown",
   "id": "8ff99f1e",
   "metadata": {},
   "source": [
    "### <mark style=\"color: black; background-color: rgb(252,185,118); padding: 3px; border-radius: 5px;\">✍️ Exercise: Printing Practice</mark>\n",
    "\n",
    "Use `print()` to print your name!"
   ]
  },
  {
   "cell_type": "code",
   "execution_count": null,
   "id": "2b2ea6b5",
   "metadata": {
    "tags": []
   },
   "outputs": [],
   "source": []
  },
  {
   "cell_type": "markdown",
   "id": "efd33967",
   "metadata": {},
   "source": [
    "### <mark style=\"color: black; background-color: rgb(190,223,185); padding: 3px; border-radius: 5px;\">Use comments to prevent Python from running code</mark>\n",
    "You can add a # at the beginning of a line of code to stop Python from running it. This is called \"commenting out\" code. "
   ]
  },
  {
   "cell_type": "markdown",
   "id": "086ca35e",
   "metadata": {},
   "source": [
    "### <mark style=\"color: black; background-color: rgb(126,172,182); padding: 3px; border-radius: 5px;\">📓 Example: Commenting out lines of code</mark>"
   ]
  },
  {
   "cell_type": "code",
   "execution_count": null,
   "id": "aed6af5e",
   "metadata": {},
   "outputs": [],
   "source": [
    "# print(\"Hello, World!\")\n",
    "print(\"Hasta la vista, baby!\")"
   ]
  },
  {
   "cell_type": "markdown",
   "id": "f91fd4da",
   "metadata": {},
   "source": [
    "### <mark style=\"color: black; background-color: rgb(190,223,185); padding: 3px; border-radius: 5px;\">Commenting keyboard shortcuts</mark>\n",
    "Since commenting is so useful in Python, there are keyboard shortcuts to quickly comment or uncomment lines of code.\n",
    "\n",
    "| Operating System | Shortcut |\n",
    "|---------|---------|\n",
    "| Mac OS X | CMD + / |\n",
    "| Windows | CTRL + / |\n",
    "\n",
    "To use these shortcuts, put your cursor on any 1 line of code or highlight multiple lines of code to toggle comments on or off with the shortcut.\n",
    "\n",
    "### <mark style=\"color: black; background-color: rgb(190,223,185); padding: 3px; border-radius: 5px;\">Commenting Best Practices</mark>\n",
    "Writing clear comments helps others and your future self understand what your code does without extra explanation. As you work through this lesson, we will highlight best practices for writing helpful comments and keeping your code easy to read. "
   ]
  },
  {
   "cell_type": "markdown",
   "id": "76921332",
   "metadata": {},
   "source": [
    "### <mark style=\"color: black; background-color: rgb(252,185,118); padding: 3px; border-radius: 5px;\">✍️ Exercise: Commenting Practice</mark>\n",
    "\n",
    "1. Make a line comment that says: \"This is a comment\"\n",
    "2. Run the code in the cell\n",
    "3. Then add the following code in a separate line: ```print(\"This shouldn't be here\")```\n",
    "4. Run the code in the cell\n",
    "5. Comment out the ```print(\"This shouldn't be here\")``` code line\n",
    "6. Run the code in the cell again"
   ]
  },
  {
   "cell_type": "code",
   "execution_count": null,
   "id": "476d4f33",
   "metadata": {
    "tags": []
   },
   "outputs": [],
   "source": []
  },
  {
   "cell_type": "markdown",
   "id": "5a8a3e04",
   "metadata": {},
   "source": [
    "***"
   ]
  },
  {
   "cell_type": "markdown",
   "id": "fcf30588",
   "metadata": {},
   "source": [
    "## <mark style=\"color: black; background-color: rgb(127,196,125); padding: 3px; border-radius: 5px;\">1. Data Types</mark>"
   ]
  },
  {
   "cell_type": "markdown",
   "id": "c5317c0e",
   "metadata": {},
   "source": [
    "**Concept.**\n",
    "Let's now discuss different types of **values** commonly used in Python! In Python, the following **data types** are commonly used: \n",
    "\n",
    "| Data Type | Description | Example |\n",
    "|---------|---------|----------------|\n",
    "| `int` | integer numbers; pronounced \"int\" | -1, 0, 42 |\n",
    "| `float` | decimal numbers; pronounced \"float\" | 3.14, -0.001, 26.2 |\n",
    "| `str` | a sequence of characters bounded by single or double quotes; pronounced \"string\" | \"hello\", 'world', \"123\", \"ca$hmoney3000\", \"^.^\" |\n",
    "| `bool` | 2 truth values; pronounced \"bool\" or \"boolean\" | True or False |\n",
    "| `None` | nothing - represents absence of a value; pronounced \"none\" | None |\n",
    "\n",
    "### <mark style=\"color: black; background-color: rgb(190,223,185); padding: 3px; border-radius: 5px;\">How to tell what data type is assigned to a value</mark>\n",
    "You can use the built-in function `type()` to check a value's data type. "
   ]
  },
  {
   "cell_type": "markdown",
   "id": "fc373046",
   "metadata": {},
   "source": [
    "### <mark style=\"color: black; background-color: rgb(126,172,182); padding: 3px; border-radius: 5px;\">📓 Example: Using `type()`</mark>"
   ]
  },
  {
   "cell_type": "code",
   "execution_count": null,
   "id": "ffcd07bc",
   "metadata": {},
   "outputs": [],
   "source": [
    "print(type(\"Hi\"))"
   ]
  },
  {
   "cell_type": "markdown",
   "id": "a3aaa14c",
   "metadata": {},
   "source": [
    "### <mark style=\"color: black; background-color: rgb(190,223,185); padding: 3px; border-radius: 5px;\">Casting a value to a different data type</mark>\n",
    "You also **cast**, or change, a value's data type with the following built-in functions:\n",
    "\n",
    "| Function | Description |\n",
    "|---------|---------|\n",
    "| `int()` | converts a value to an `int` |\n",
    "| `float()` | converts a value to a `float` |\n",
    "| `str()` | converts a value to a `str` |"
   ]
  },
  {
   "cell_type": "markdown",
   "id": "45f913de",
   "metadata": {},
   "source": [
    "### <mark style=\"color: black; background-color: rgb(126,172,182); padding: 3px; border-radius: 5px;\">📓 Example: Converting a float to an int</mark>"
   ]
  },
  {
   "cell_type": "code",
   "execution_count": null,
   "id": "626f2e48",
   "metadata": {},
   "outputs": [],
   "source": [
    "print(type(2.3))\n",
    "print(int(2.3))  # converts float 2.3 to int 2\n",
    "print(type(int(2.3)))"
   ]
  },
  {
   "cell_type": "markdown",
   "id": "ed411b97",
   "metadata": {},
   "source": [
    "### <mark style=\"color: black; background-color: rgb(126,172,182); padding: 3px; border-radius: 5px;\">📓 Example: Converting an int to a str</mark>"
   ]
  },
  {
   "cell_type": "code",
   "execution_count": null,
   "id": "4037bb14",
   "metadata": {},
   "outputs": [],
   "source": [
    "print(type(17))\n",
    "print(str(17))  # converts int 17 to str 17\n",
    "print(type(str(17)))"
   ]
  },
  {
   "cell_type": "markdown",
   "id": "6643031f",
   "metadata": {},
   "source": [
    "### <mark style=\"color: black; background-color: rgb(252,185,118); padding: 3px; border-radius: 5px;\">✍️ Exercise: Guess the output before running the code!</mark>"
   ]
  },
  {
   "cell_type": "code",
   "execution_count": null,
   "id": "6c79215f",
   "metadata": {},
   "outputs": [],
   "source": [
    "print(type(3.14))"
   ]
  },
  {
   "cell_type": "markdown",
   "id": "dd3a5c33",
   "metadata": {},
   "source": [
    "### <mark style=\"color: black; background-color: rgb(252,185,118); padding: 3px; border-radius: 5px;\">✍️ Exercise: Guess the output before running the code!</mark>"
   ]
  },
  {
   "cell_type": "code",
   "execution_count": null,
   "id": "c7a56c23",
   "metadata": {},
   "outputs": [],
   "source": [
    "print(type(str(2025)))"
   ]
  },
  {
   "cell_type": "markdown",
   "id": "5746dfb8",
   "metadata": {},
   "source": [
    "### <mark style=\"color: black; background-color: rgb(252,185,118); padding: 3px; border-radius: 5px;\">✍️ Exercise: Guess the output before running the code!</mark>"
   ]
  },
  {
   "cell_type": "code",
   "execution_count": null,
   "id": "75c47682-d82d-430d-bcf3-27e44eddd222",
   "metadata": {},
   "outputs": [],
   "source": [
    "print(float(1))"
   ]
  },
  {
   "cell_type": "markdown",
   "id": "6e5e98a6",
   "metadata": {},
   "source": [
    "***"
   ]
  },
  {
   "cell_type": "markdown",
   "id": "3dc95a1a",
   "metadata": {},
   "source": [
    "## <mark style=\"color: black; background-color: rgb(127,196,125); padding: 3px; border-radius: 5px;\">2. Variables</mark>"
   ]
  },
  {
   "cell_type": "markdown",
   "id": "8a24d030",
   "metadata": {},
   "source": [
    "**Concept.**  \n",
    "A **variable** is a name assigned to a value. In Python, creating a new variable is called \"declaring a variable.\"\n",
    "\n",
    "### <mark style=\"color: black; background-color: rgb(190,223,185); padding: 3px; border-radius: 5px;\">How to declare a new variable in Python </mark>\n",
    "To declare a new variable, type a **variable name**, then use the = sign to assign it a value. Here's a few examples of declaring variables:\n",
    "```python\n",
    "welcome = 'Hello World'\n",
    "x = 3\n",
    "y = 5.2  \n",
    "```\n",
    "\n",
    "### <mark style=\"color: black; background-color: rgb(190,223,185); padding: 3px; border-radius: 5px;\">How to name your variables</mark>\n",
    "You can name your variables *almost* anything, but there are some rules and best practices.\n",
    "\n",
    "**Rules**\n",
    "* Variable names must not **start** with a number or special character\n",
    "* No spaces are allowed in variable names\n",
    "\n",
    "**Best Practices**\n",
    "* Use only letters, numbers, and underscores _\n",
    "* Use lowercase consistently. Python treats uppercase and lowercase letters as different. For example: `price` and `Price` are two different variables.\n",
    "* Use underscores when you would have wanted to use spaces (`snake_case`)  \n",
    "* Be descriptive with names. For example: `temperature_c` or `temp_c` is better than `t` \n",
    "* Add a comment if the variable's purpose is not obvious\n",
    "\n",
    "### <mark style=\"color: black; background-color: rgb(190,223,185); padding: 3px; border-radius: 5px;\">How to change your variable's value  </mark>\n",
    "You can reassign a variable at any time by assigning it a new value. Here's an example:\n",
    "\n",
    "```python\n",
    "price = 19.99\n",
    "price = \"expensive\"\n",
    "```\n",
    "The variable price is now assigned to \"expensive\" ."
   ]
  },
  {
   "cell_type": "markdown",
   "id": "6b651854",
   "metadata": {},
   "source": [
    "### <mark style=\"color: black; background-color: rgb(252,185,118); padding: 3px; border-radius: 5px;\">✍️ Exercise: Variable Practice</mark>\n",
    "\n",
    "Create two variables:\n",
    "* `first_name` = your first name\n",
    "* `bobiac_year` = your BoBiAC cohort year\n",
    "\n",
    "Bonus points for commenting what your variables are!\n",
    "\n",
    "Then, tell Python to **print** the values assigned to these variables by writing:\n",
    "```python\n",
    "print(first_name)\n",
    "print(bobiac_year)\n",
    "```\n",
    "When you run your code, you should see:\n",
    "<br>`your first name`\n",
    "<br>`bobiac_year`"
   ]
  },
  {
   "cell_type": "code",
   "execution_count": null,
   "id": "a081fc50",
   "metadata": {
    "tags": []
   },
   "outputs": [],
   "source": []
  },
  {
   "cell_type": "markdown",
   "id": "2a84a432",
   "metadata": {},
   "source": [
    "***"
   ]
  },
  {
   "cell_type": "markdown",
   "id": "2dff935a",
   "metadata": {},
   "source": [
    "## <mark style=\"color: black; background-color: rgb(127,196,125); padding: 3px; border-radius: 5px;\">3. Operators</mark>"
   ]
  },
  {
   "cell_type": "markdown",
   "id": "7e517d3d",
   "metadata": {},
   "source": [
    "**Concept.**  \n",
    "Now that we have learned about variables and what can be assigned to them, let's explore what we can *do* with variables. In Python, **operators** are used to perform various operations on variables and values, including arithmetic or comparison operations. \n",
    "\n",
    "### <mark style=\"color: black; background-color: rgb(190,223,185); padding: 3px; border-radius: 5px;\">Arithmetic operators</mark>\n",
    "Arithmetic operators in Python include basic mathematical calculations that you would normally do on a calculator!\n",
    "\n",
    "| Operator | Description | Example |\n",
    "|---------|---------|----------------|\n",
    "| `+`| Addition | variable_1 + variable_2 |\n",
    "| `-` | Subtraction | variable_1 - variable_2 |\n",
    "| `*` | Multiplication | variable_1 * variable_2 |\n",
    "| `/` | Division | variable_1 / variable_2 |\n",
    "| `**` | Exponent | variable_1**variable_2 |\n",
    "\n",
    "Using arithmetic operators with variables will **return** the resulting value.\n",
    "\n",
    "Let's see some examples!"
   ]
  },
  {
   "cell_type": "markdown",
   "id": "890ad21f",
   "metadata": {},
   "source": [
    "### <mark style=\"color: black; background-color: rgb(126,172,182); padding: 3px; border-radius: 5px;\">📓 Example: Adding two int values</mark>"
   ]
  },
  {
   "cell_type": "code",
   "execution_count": null,
   "id": "c17ff1bd",
   "metadata": {},
   "outputs": [],
   "source": [
    "v1 = 1\n",
    "v2 = 2\n",
    "print(v1 + v2)"
   ]
  },
  {
   "cell_type": "markdown",
   "id": "3aea964d",
   "metadata": {},
   "source": [
    "### <mark style=\"color: black; background-color: rgb(126,172,182); padding: 3px; border-radius: 5px;\">📓 Example: Adding two str values</mark>"
   ]
  },
  {
   "cell_type": "code",
   "execution_count": null,
   "id": "ca27bd9b",
   "metadata": {},
   "outputs": [],
   "source": [
    "v1 = \"BoBiAC\"\n",
    "v2 = \"2025\"\n",
    "print(v1 + v2)"
   ]
  },
  {
   "cell_type": "markdown",
   "id": "9de5420b",
   "metadata": {},
   "source": [
    "Notice that we can add 2 `str` values!\n",
    "\n",
    "<p class=\"alert alert-info\">\n",
    "   <strong>Note:</strong> You might be wondering, can we apply other arithmetic operators to `str` values? The answer is yes, but implementing operators beyond `+` does not have use for the applications we are covering in this course. \n",
    "</p>\n",
    "\n",
    "### <mark style=\"color: black; background-color: rgb(190,223,185); padding: 3px; border-radius: 5px;\">Comparison operators</mark>\n",
    "Comparison operators compare values assigned to two different variables.\n",
    "\n",
    "| Operator | Description | Example |\n",
    "|---------|---------|----------------|\n",
    "| `==` | Equal in value | variable_1 == variable_2 |\n",
    "| `!=` | Not equal in value | variable_1 != variable_2 |\n",
    "| `>` | Greater than | variable_1 > variable_2 |\n",
    "| `<` | Less than | variable_1 < variable_2 |\n",
    "| `>=` | Greater than or equal to | variable_1 >= variable_2 |\n",
    "| `<=` | Less than or equal to | variable_1 <= variable_2 |\n",
    "\n",
    "<p class=\"alert alert-warning\">\n",
    "   <strong>Caution:</strong> Don't confuse `==` with `=` in Python. A single `=` is used to declare a variable. A double `==` is used to evaluate whether two values are equal.\n",
    "</p>\n",
    "\n",
    "Unlike arithmetic operators, comparison operators generally return a ```bool```, which is either ```True``` or ```False```. Let's see an example. "
   ]
  },
  {
   "cell_type": "markdown",
   "id": "68981c32",
   "metadata": {},
   "source": [
    "### <mark style=\"color: black; background-color: rgb(126,172,182); padding: 3px; border-radius: 5px;\">📓 Example: Comparison operators</mark>"
   ]
  },
  {
   "cell_type": "code",
   "execution_count": null,
   "id": "cb2d5478",
   "metadata": {},
   "outputs": [],
   "source": [
    "variable_1 = 1\n",
    "variable_2 = 2\n",
    "print(variable_1 < variable_2)  # returns True"
   ]
  },
  {
   "cell_type": "markdown",
   "id": "429cff35",
   "metadata": {},
   "source": [
    "### <mark style=\"color: black; background-color: rgb(252,185,118); padding: 3px; border-radius: 5px;\">✍️ Exercise: Guess the output before running the code!</mark>"
   ]
  },
  {
   "cell_type": "code",
   "execution_count": null,
   "id": "4880d8e4",
   "metadata": {},
   "outputs": [],
   "source": [
    "variable_1 = 5\n",
    "variable_2 = 10\n",
    "print(variable_1 + variable_2)"
   ]
  },
  {
   "cell_type": "markdown",
   "id": "46016477",
   "metadata": {},
   "source": [
    "### <mark style=\"color: black; background-color: rgb(252,185,118); padding: 3px; border-radius: 5px;\">✍️ Exercise: Guess the output before running the code!</mark>"
   ]
  },
  {
   "cell_type": "code",
   "execution_count": null,
   "id": "52f03577",
   "metadata": {},
   "outputs": [],
   "source": [
    "variable_1 = 5\n",
    "variable_2 = 10\n",
    "print(variable_1 == variable_2)"
   ]
  },
  {
   "cell_type": "markdown",
   "id": "ecb219ce",
   "metadata": {},
   "source": [
    "### <mark style=\"color: black; background-color: rgb(252,185,118); padding: 3px; border-radius: 5px;\">✍️ Exercise: Guess the output before running the code!</mark>"
   ]
  },
  {
   "cell_type": "code",
   "execution_count": null,
   "id": "24b90f0f-857a-4aad-b535-fa872a9bd3a5",
   "metadata": {},
   "outputs": [],
   "source": [
    "variable_1 = \"Hi\"\n",
    "variable_2 = \"hello\"\n",
    "print(variable_1 + variable_2)"
   ]
  },
  {
   "cell_type": "markdown",
   "id": "19104ad9",
   "metadata": {},
   "source": [
    "### <mark style=\"color: black; background-color: rgb(252,185,118); padding: 3px; border-radius: 5px;\">✍️ Exercise: Guess the output before running the code!</mark>"
   ]
  },
  {
   "cell_type": "code",
   "execution_count": null,
   "id": "1abba4ab",
   "metadata": {},
   "outputs": [],
   "source": [
    "variable_1 = 2\n",
    "variable_2 = 1.3\n",
    "print(variable_1 + variable_2)"
   ]
  },
  {
   "cell_type": "markdown",
   "id": "4cf3acb5",
   "metadata": {},
   "source": [
    "***"
   ]
  },
  {
   "cell_type": "markdown",
   "id": "d00e582b",
   "metadata": {},
   "source": [
    "## <mark style=\"color: black; background-color: rgb(127,196,125); padding: 3px; border-radius: 5px;\">4. Data Structures</mark>"
   ]
  },
  {
   "cell_type": "markdown",
   "id": "5e060920",
   "metadata": {},
   "source": [
    "**Concept.**  \n",
    "When working with many values, each with its own data type, it is helpful to organize them using **data structures**. A data structure is a **container** to organize values. Python has 4 different types of built-in data structures: lists, tuples, dictionaries, and sets. \n",
    "\n",
    "**Python's Built-In Python Data Structures**\n",
    "When thinking about how to organize values into a data structure, there are a few key questions that we can consider: \n",
    "* Do the values need appear in an order? \n",
    "* Can the values be changed after they have been put in a data structure?\n",
    "* Can there be duplicate values? \n",
    "\n",
    "The following table summarizes the answers to these 4 questions for each Python data structure:\n",
    "\n",
    "| Characteristic | `list` | `tuple` | `dict` | `set` |\n",
    "|---------|---------|---------|---------|---------|\n",
    "| Ordered? | Yes | Yes | Yes | No |\n",
    "| Allows changing items? | Yes | No | Yes | Yes |\n",
    "| Allows duplicate items?  | Yes | Yes | No duplicate keys | No |\n",
    "\n",
    "In the next chapters, we will learn more about each of these data structures and how we can work with them. "
   ]
  },
  {
   "cell_type": "markdown",
   "id": "02cab3f0",
   "metadata": {},
   "source": [
    "***"
   ]
  },
  {
   "cell_type": "markdown",
   "id": "71072aba",
   "metadata": {},
   "source": [
    "## <mark style=\"color: black; background-color: rgb(127,196,125); padding: 3px; border-radius: 5px;\">5. Data Structures: Lists</mark>"
   ]
  },
  {
   "cell_type": "markdown",
   "id": "4377aec2",
   "metadata": {},
   "source": [
    "**Concept.**  \n",
    "A **list** is a built-in Python data structure. It is a way to store a **sequence** of values.\n",
    "\n",
    "### <mark style=\"color: black; background-color: rgb(190,223,185); padding: 3px; border-radius: 5px;\">Creating a list</mark>\n",
    "We create a list by placing items inside square brackets [ ], separated by commas: \n",
    "```python\n",
    "mylist = [1, 2, 3]\n",
    "```\n",
    "\n",
    "We can put any data type we'd like in a list, not just `int`! We can even mix different data types. Here's an example:\n",
    "```python\n",
    "mylist = [1, 'code', 1.1, 'breathe', 2, 'repeat', True]\n",
    "```\n",
    "\n",
    "Lists can also have duplicate items: \n",
    "```python\n",
    "mylist = [1, 'code', 'code', 1.1, 'breathe', 2, 'repeat', True, True]\n",
    "```\n",
    "\n",
    "Lists can even contain lists as items! \n",
    "```python\n",
    "mylist = [['code', 'code', 'code'], ['breathe', 'breathe'], ['repeat']]\n",
    "```\n",
    "\n",
    "We can also `print()` variables associated with a whole list to see the entire list."
   ]
  },
  {
   "cell_type": "markdown",
   "id": "8f076ca3",
   "metadata": {},
   "source": [
    "### <mark style=\"color: black; background-color: rgb(126,172,182); padding: 3px; border-radius: 5px;\">📓 Example: Printing a List</mark>"
   ]
  },
  {
   "cell_type": "code",
   "execution_count": null,
   "id": "4e6472ba",
   "metadata": {},
   "outputs": [],
   "source": [
    "mylist = [\"a\", \"b\", \"c\"]\n",
    "print(mylist)"
   ]
  },
  {
   "cell_type": "markdown",
   "id": "5dd1a603",
   "metadata": {},
   "source": [
    "### <mark style=\"color: black; background-color: rgb(190,223,185); padding: 3px; border-radius: 5px;\">List length</mark>\n",
    "You can find a list's length using `len()`."
   ]
  },
  {
   "cell_type": "markdown",
   "id": "7bb1534e",
   "metadata": {},
   "source": [
    "### <mark style=\"color: black; background-color: rgb(126,172,182); padding: 3px; border-radius: 5px;\">📓 Example: Getting a list's length</mark>"
   ]
  },
  {
   "cell_type": "code",
   "execution_count": null,
   "id": "2d4c9b57",
   "metadata": {},
   "outputs": [],
   "source": [
    "mylist = [1, 2, 3]\n",
    "print(len(mylist))"
   ]
  },
  {
   "cell_type": "markdown",
   "id": "34a77a6f",
   "metadata": {},
   "source": [
    "Now you give it a try! Get the length of this list: \n",
    "```python\n",
    "mylist = ['Bo', 'Bi', 'A', 'C', 2025]\n",
    "```"
   ]
  },
  {
   "cell_type": "markdown",
   "id": "15beec61",
   "metadata": {},
   "source": [
    "### <mark style=\"color: black; background-color: rgb(252,185,118); padding: 3px; border-radius: 5px;\">✍️ Exercise: Printing a list's length</mark>"
   ]
  },
  {
   "cell_type": "code",
   "execution_count": null,
   "id": "f860a3aa",
   "metadata": {
    "tags": []
   },
   "outputs": [],
   "source": []
  },
  {
   "cell_type": "markdown",
   "id": "9fd71ecf",
   "metadata": {},
   "source": [
    "### <mark style=\"color: black; background-color: rgb(190,223,185); padding: 3px; border-radius: 5px;\">Indexing</mark>\n",
    "The order of items in a list is tracked using an **index**. An item's index tells you its position in the list. The first item in a list has an index `[0]`, the second item has an index of `[1]`, and so on. Notice how our index counting scheme in Python starts from 0 instead of 1. Starting from 0 is a general theme in Python that spans through many different concepts we will cover in this course. \n",
    "\n",
    "### <mark style=\"color: black; background-color: rgb(190,223,185); padding: 3px; border-radius: 5px;\">Accessing list items</mark>\n",
    "We can access individual list items by using their indices! For example, let's consider the following list `mylist`:\n",
    "```python\n",
    "mylist = ['a', 'b', 'c']\n",
    "```\n",
    "If we want to print only `'a'`, then we can use its index to specifically print it. Since `'a'` is first in the list, it has an index of `[0]`.\n",
    "```python\n",
    "print(mylist[0])\n",
    "> a\n",
    "```"
   ]
  },
  {
   "cell_type": "markdown",
   "id": "fe80d248",
   "metadata": {},
   "source": [
    "### <mark style=\"color: black; background-color: rgb(252,185,118); padding: 3px; border-radius: 5px;\">✍️ Exercise: Printing Items in a List</mark>\n",
    "\n",
    "Print the following sentence by accessing and printing items in the list `mylist`\n",
    "* Sentence: \n",
    "\n",
    "    I \n",
    "\n",
    "    love \n",
    "\n",
    "    to \n",
    "\n",
    "    code\n",
    "    \n",
    "* ```mylist = ['I', 'hate', 'love', 'to', 'code'] ```\n"
   ]
  },
  {
   "cell_type": "code",
   "execution_count": null,
   "id": "d9c31404",
   "metadata": {
    "tags": []
   },
   "outputs": [],
   "source": []
  },
  {
   "cell_type": "markdown",
   "id": "5253b046",
   "metadata": {},
   "source": [
    "Remember, indexing in Python starts at zero! \n",
    "\n",
    "Let's see another example of accessing a list items. Consider the following list `mylist`:\n",
    "```python\n",
    "mylist = [['a', 'b', 'c'], ['d', 'e', 'f']]\n",
    "```\n",
    "If we want to print only `'d'`, then we can use the first index to specify which item in the overall list, then a second index to specify the value within that item."
   ]
  },
  {
   "cell_type": "markdown",
   "id": "7fb27b941602401d91542211134fc71a",
   "metadata": {},
   "source": [
    "### <mark style=\"color: black; background-color: rgb(126,172,182); padding: 3px; border-radius: 5px;\">📓 Example: Accessing an item in a list of lists</mark>"
   ]
  },
  {
   "cell_type": "code",
   "execution_count": null,
   "id": "acae54e37e7d407bbb7b55eff062a284",
   "metadata": {},
   "outputs": [],
   "source": [
    "mylist = [[\"a\", \"b\", \"c\"], [\"d\", \"e\", \"f\"]]\n",
    "print(mylist[1][0])  # prints d"
   ]
  },
  {
   "cell_type": "markdown",
   "id": "e26ea4ca",
   "metadata": {},
   "source": [
    "### <mark style=\"color: black; background-color: rgb(190,223,185); padding: 3px; border-radius: 5px;\">Negative Indexing</mark>\n",
    "When a list has many items, it is often easier to count from the **end** rather than the beginning of the list. Python lets you do this using **negative indexing**. \n",
    "\n",
    "For example, let's consider the following list `mylist`:\n",
    "```python\n",
    "mylist = ['a', 'b', 'c', 'd', 'e', 'f', 'g', 'h', 'i', 'j', 'k', 'l', 'm', 'n', 'o', 'p', 'q', 'r', 's', 't', 'u', 'v', 'w', 'x', 'y', 'z']\n",
    "```\n",
    "\n",
    "If we want to print `'x'`, it's much easier to say it's 3rd from the end of the list, rather than counting through the items preceding it. We can use negative indexing to start our index count from the end of the list and work backwards. With negative indexing, `[-1]` is the last item of the list, `[-2]` is the second to last item of the list, and so on. Therefore, to print `'x'` from `mylist`, we would use `[-3]` index.\n"
   ]
  },
  {
   "cell_type": "markdown",
   "id": "eb2222a6",
   "metadata": {},
   "source": [
    "### <mark style=\"color: black; background-color: rgb(126,172,182); padding: 3px; border-radius: 5px;\">📓 Example: Using negative indexing</mark>"
   ]
  },
  {
   "cell_type": "code",
   "execution_count": null,
   "id": "6aef7fd2",
   "metadata": {},
   "outputs": [],
   "source": [
    "mylist = [\n",
    "    \"a\",\n",
    "    \"b\",\n",
    "    \"c\",\n",
    "    \"d\",\n",
    "    \"e\",\n",
    "    \"f\",\n",
    "    \"g\",\n",
    "    \"h\",\n",
    "    \"i\",\n",
    "    \"j\",\n",
    "    \"k\",\n",
    "    \"l\",\n",
    "    \"m\",\n",
    "    \"n\",\n",
    "    \"o\",\n",
    "    \"p\",\n",
    "    \"q\",\n",
    "    \"r\",\n",
    "    \"s\",\n",
    "    \"t\",\n",
    "    \"u\",\n",
    "    \"v\",\n",
    "    \"w\",\n",
    "    \"x\",\n",
    "    \"y\",\n",
    "    \"z\",\n",
    "]\n",
    "print(mylist[-3])"
   ]
  },
  {
   "cell_type": "markdown",
   "id": "f9d96234",
   "metadata": {},
   "source": [
    "### <mark style=\"color: black; background-color: rgb(190,223,185); padding: 3px; border-radius: 5px;\">Accessing a Range of Items</mark>\n",
    "Sometimes, you want to access a range of items from a list at once. We can do this by specifying a range of indices. Let's again consider this list `mylist`:\n",
    "```python\n",
    "mylist = ['a', 'b', 'c', 'd', 'e', 'f', 'g', 'h', 'i', 'j', 'k', 'l', 'm', 'n', 'o', 'p', 'q', 'r', 's', 't', 'u', 'v', 'w', 'x', 'y', 'z']\n",
    "```\n",
    "\n",
    "If we want to print `'a' 'b' 'c'`, the first 3 items in the list, then we can specify the range of their indices using a colon `:`. Since indexing starts from `0`, that range will be `[0:3]`. Notice how the last number in that index range, 3, is excluded."
   ]
  },
  {
   "cell_type": "markdown",
   "id": "ce124bd1",
   "metadata": {},
   "source": [
    "### <mark style=\"color: black; background-color: rgb(126,172,182); padding: 3px; border-radius: 5px;\">📓 Example: Accessing a range of items</mark>"
   ]
  },
  {
   "cell_type": "code",
   "execution_count": null,
   "id": "a60976bd",
   "metadata": {},
   "outputs": [],
   "source": [
    "mylist = [\n",
    "    \"a\",\n",
    "    \"b\",\n",
    "    \"c\",\n",
    "    \"d\",\n",
    "    \"e\",\n",
    "    \"f\",\n",
    "    \"g\",\n",
    "    \"h\",\n",
    "    \"i\",\n",
    "    \"j\",\n",
    "    \"k\",\n",
    "    \"l\",\n",
    "    \"m\",\n",
    "    \"n\",\n",
    "    \"o\",\n",
    "    \"p\",\n",
    "    \"q\",\n",
    "    \"r\",\n",
    "    \"s\",\n",
    "    \"t\",\n",
    "    \"u\",\n",
    "    \"v\",\n",
    "    \"w\",\n",
    "    \"x\",\n",
    "    \"y\",\n",
    "    \"z\",\n",
    "]\n",
    "print(mylist[0:2])  # wrong indexing - the last item is EXCLUDED!!!\n",
    "print(mylist[0:3])  # correct indexing to print abc"
   ]
  },
  {
   "cell_type": "markdown",
   "id": "6f8aa19b",
   "metadata": {},
   "source": [
    "### <mark style=\"color: black; background-color: rgb(252,185,118); padding: 3px; border-radius: 5px;\">✍️ Exercise: Guess the output before running the code!</mark>"
   ]
  },
  {
   "cell_type": "code",
   "execution_count": null,
   "id": "88ad54ce",
   "metadata": {},
   "outputs": [],
   "source": [
    "mylist = [\"I\", \"hate\", \"love\", \"to\", \"code\"]\n",
    "print(mylist[2:5])"
   ]
  },
  {
   "cell_type": "markdown",
   "id": "2d415007",
   "metadata": {},
   "source": [
    "### <mark style=\"color: black; background-color: rgb(190,223,185); padding: 3px; border-radius: 5px;\">Changing an item in a list</mark>\n",
    "Lists are **mutable**, which means you can change their contents after creating them. You can update an item by using its index and assigning it to a new value. For example, consider the list `mylist`:\n",
    "```python\n",
    "mylist = [\"dapi\", \"fitc\", \"cy5\"]\n",
    "```\n",
    "Let's say we want to change the first item of `mylist` to be \"mcherry\", instead of \"dapi\". We would do that as follows: \n",
    "```python\n",
    "mylist[0] = \"mcherry\"\n",
    "```"
   ]
  },
  {
   "cell_type": "markdown",
   "id": "203e6b6c",
   "metadata": {},
   "source": [
    "### <mark style=\"color: black; background-color: rgb(126,172,182); padding: 3px; border-radius: 5px;\">📓 Example: Changing an item in a list</mark>"
   ]
  },
  {
   "cell_type": "code",
   "execution_count": null,
   "id": "9a8adb9a",
   "metadata": {},
   "outputs": [],
   "source": [
    "mylist = [\"dapi\", \"fitc\", \"cy5\"]\n",
    "print(mylist)\n",
    "mylist[0] = \"mcherry\"\n",
    "print(mylist)"
   ]
  },
  {
   "cell_type": "markdown",
   "id": "7f10238b",
   "metadata": {},
   "source": [
    "### <mark style=\"color: black; background-color: rgb(190,223,185); padding: 3px; border-radius: 5px;\">Adding items to a list</mark>\n",
    "After a list is created, we can add new items to it at any time.\n",
    "\n",
    "#### Add item to the end of a list\n",
    "You can add an item to the end of a list with `append()`. For example: \n",
    "```python\n",
    "mylist = [] # empty list\n",
    "mylist.append('something')\n",
    "print(mylist)\n",
    "> ['something']\n",
    "```"
   ]
  },
  {
   "cell_type": "markdown",
   "id": "b1dce7b8",
   "metadata": {},
   "source": [
    "### <mark style=\"color: black; background-color: rgb(126,172,182); padding: 3px; border-radius: 5px;\">📓 Example: Using append() to add an item to the end of a list</mark>"
   ]
  },
  {
   "cell_type": "code",
   "execution_count": null,
   "id": "b77a5b05",
   "metadata": {},
   "outputs": [],
   "source": [
    "mylist = []\n",
    "a = [\"hi\", \"hello\"]\n",
    "b = [\"bye\", \"goodbye\"]\n",
    "mylist.append(a)\n",
    "mylist.append(b)\n",
    "print(mylist)"
   ]
  },
  {
   "cell_type": "markdown",
   "id": "f0cec0b3",
   "metadata": {},
   "source": [
    "Notice how `append()` simply adds the specified item to the end of `mylist`. In the example above, each item is a list. If you append a list, the entire list is added as a single item, not as individual elements.\n",
    "\n",
    "#### Add an item to a specific list index\n",
    "You can add an item to a specified index with `insert()`. For example, let's say we want to insert `'b'` in `mylist` at index `[1]`: \n",
    "```python\n",
    "mylist = ['a', 'c']\n",
    "mylist.insert(1, 'b')\n",
    "print(mylist)\n",
    "> ['a', 'b', 'c']\n",
    "```"
   ]
  },
  {
   "cell_type": "markdown",
   "id": "c0c5ff3f",
   "metadata": {},
   "source": [
    "\n",
    "### <mark style=\"color: black; background-color: rgb(252,185,118); padding: 3px; border-radius: 5px;\">✍️ Exercise: Adding Items to a List</mark>\n",
    "\n",
    "\n",
    "Given `mylist`:\n",
    "```python\n",
    "mylist = ['a', 'b', 'c']\n",
    "```\n",
    "Add `'easy as'` to the beginning of `mylist`. Print the updated `mylist` to confirm it's correct."
   ]
  },
  {
   "cell_type": "code",
   "execution_count": null,
   "id": "8d575f2a",
   "metadata": {
    "tags": []
   },
   "outputs": [],
   "source": []
  },
  {
   "cell_type": "markdown",
   "id": "ae581ff4",
   "metadata": {},
   "source": [
    "### <mark style=\"color: black; background-color: rgb(252,185,118); padding: 3px; border-radius: 5px;\">✍️ Exercise: Adding Items to a List</mark>\n",
    "\n",
    "Given `mylist`:\n",
    "```python\n",
    "mylist = ['a', 'b', 'c']\n",
    "```\n",
    "Add `'alphabet'` to the end of `mylist`. Print the updated `mylist` to confirm it's correct."
   ]
  },
  {
   "cell_type": "code",
   "execution_count": null,
   "id": "267bbb2f",
   "metadata": {
    "tags": []
   },
   "outputs": [],
   "source": []
  },
  {
   "cell_type": "markdown",
   "id": "86e7591f",
   "metadata": {},
   "source": [
    "### <mark style=\"color: black; background-color: rgb(190,223,185); padding: 3px; border-radius: 5px;\">Removing list items</mark>\n",
    "We can also remove items from a list! There are many ways to do this, but we will focus on 3 common methods. \n",
    "\n",
    "#### Removing list items with remove()\n",
    "Let's say you have a specific **value** you would like to remove from a list. You can use `remove()` to remove that value from the list. For example, consider the following list `mylist`:\n",
    "```python\n",
    "mylist = [1, 2, 3]\n",
    "```\n",
    "Let's say we want to remove the `int` 2 from `mylist`. We could do that using `remove()`:\n",
    "```python\n",
    "mylist = [1, 2, 3]\n",
    "mylist.remove(2)\n",
    "print(mylist)\n",
    "> [1, 3]\n",
    "```\n",
    "`remove()` is a nice way to remove list items when you have a specific **value** you want to target to remove.\n",
    "\n",
    "<p class=\"alert alert-info\">\n",
    "   <strong>Note:</strong> `remove()` only removes the **first** matching value it finds. If there are duplicate values in a list, `remove()` will **not** remove all of them.\n",
    "</p>\n",
    "\n",
    "#### Removing list items with pop()\n",
    "Let's say you know the **index** of a specific item that you want to remove from a list. You can use `pop()` to remove that an item at that **specific index** from the list. For example, consider the following list `mylist`:\n",
    "```python\n",
    "mylist = ['a', 'b', 'c']\n",
    "```\n",
    "Let's say we want to remove the second value in `mylist`, which would have an index of [1]. We could do that using `pop()`:\n",
    "``` python\n",
    "mylist = ['a', 'b', 'c']\n",
    "mylist.pop(1) # remove the second value from mylist\n",
    "print(mylist)\n",
    "> ['a', 'c']\n",
    "```\n",
    "\n",
    "<p class=\"alert alert-warning\">\n",
    "    <strong>Caution:</strong> Notice that `pop()` removes a specified **index**, while `remove()` removes a specified **value**. The two approaches are not the same!\n",
    "</p>"
   ]
  },
  {
   "cell_type": "markdown",
   "id": "980d234f",
   "metadata": {},
   "source": [
    "### <mark style=\"color: black; background-color: rgb(252,185,118); padding: 3px; border-radius: 5px;\">✍️ Exercise: Removing Items from a List</mark>\n",
    "\n",
    "Given `letters`:\n",
    "```python\n",
    "letters = ['d', 'm', 'x']\n",
    "```\n",
    "Remove `'m'`. Print the updated `letters` to confirm it's correct."
   ]
  },
  {
   "cell_type": "code",
   "execution_count": null,
   "id": "ea5893be",
   "metadata": {
    "tags": []
   },
   "outputs": [],
   "source": []
  },
  {
   "cell_type": "markdown",
   "id": "9a63283cbaf04dbcab1f6479b197f3a8",
   "metadata": {},
   "source": [
    "#### Emptying a List with clear()\n",
    "Sometimes, you want to completely empty a list and start fresh. You can do that using `clear()`. Let's say that you have already made a list `mylist`:\n",
    "```python\n",
    "mylist = ['x', 'y', 'z']\n",
    "```\n",
    "Now you want to remove all items in `mylist`. Here's how you can use `clear()` to do that: \n",
    "```python\n",
    "mylist = ['x', 'y', 'z']\n",
    "mylist.clear()\n",
    "print(mylist)\n",
    "> []\n",
    "```"
   ]
  },
  {
   "cell_type": "markdown",
   "id": "f6926fc9",
   "metadata": {},
   "source": [
    "***"
   ]
  },
  {
   "cell_type": "markdown",
   "id": "917705a8",
   "metadata": {},
   "source": [
    "## <mark style=\"color: black; background-color: rgb(127,196,125); padding: 3px; border-radius: 5px;\">6. Data Structures: Tuples</mark>"
   ]
  },
  {
   "cell_type": "markdown",
   "id": "9a36f204",
   "metadata": {},
   "source": [
    "**Concept.**  \n",
    "Another built-in data structure in Python is a `tuple`. Just as with a `list`, a `tuple` stores a sequence of values that are ordered and potentially appear in duplicate. However, a `tuple` is unchangeable, or **immutable**, meaning that we cannot change items in a tuple after they are specified. \n",
    "\n",
    "The chart below summarizes a comparison between a `list` and a `tuple`:\n",
    "\n",
    "| Characteristic | `list` | `tuple` |\n",
    "|---------|---------|---------|\n",
    "| Ordered? | Yes | Yes |\n",
    "| Allows changing items? | Yes | No |\n",
    "| Allows duplicate items?  | Yes | Yes |\n",
    "\n",
    "### <mark style=\"color: black; background-color: rgb(190,223,185); padding: 3px; border-radius: 5px;\">Creating a tuple</mark>\n",
    "In Python, we can create a tuple by using parentheses () and commas to separate items: \n",
    "```python\n",
    "mytuple = (1, 2, 3)\n",
    "```\n",
    "\n",
    "```{note}\n",
    "Notice how similar a tuple and a list look in definition. Remember that lists are defined with [] and commas separating items, while tuples are defined with () and commas separating items. \n",
    "```\n",
    "\n",
    "|  | Definition\n",
    "|---------|---------|\n",
    "| `list` | [] |\n",
    "| `tuple` | () |\n",
    "\n",
    "Just like lists, tuples can store a mix of data types. For example:\n",
    "```python\n",
    "mytuple = ('a', 1, 'b', 2.5)\n",
    "```\n",
    "### <mark style=\"color: black; background-color: rgb(190,223,185); padding: 3px; border-radius: 5px;\">Tuple length</mark>\n",
    "Just as with lists, we can get a tuple's length using `len()`:\n",
    "```python\n",
    "mytuple = ('a', 'b', 'c')\n",
    "print(len(mytuple))\n",
    "> 3\n",
    "```\n",
    "### <mark style=\"color: black; background-color: rgb(190,223,185); padding: 3px; border-radius: 5px;\">Accessing items in a tuple</mark>\n",
    "Since tuples are ordered, we can access their items using indices! The syntax to do this is the same as with lists. Let's say we want to access `'b'` in `mytuple` tuple: \n",
    "```python\n",
    "mytuple = ('a', 'b', 'c')\n",
    "print(mytuple[1])\n",
    "> b\n",
    "```\n",
    "### <mark style=\"color: black; background-color: rgb(190,223,185); padding: 3px; border-radius: 5px;\">Tuples are immutable</mark>\n",
    "Unlike lists, we cannot change items in a tuple. Let's learn this the hard way. Try running the block of code below. What happens?"
   ]
  },
  {
   "cell_type": "markdown",
   "id": "b3eaac12",
   "metadata": {},
   "source": [
    "### <mark style=\"color: black; background-color: rgb(126,172,182); padding: 3px; border-radius: 5px;\">📓 Example: Changing a tuple's item</mark>"
   ]
  },
  {
   "cell_type": "code",
   "execution_count": null,
   "id": "e1f2db65",
   "metadata": {},
   "outputs": [],
   "source": [
    "a = (1, 2, 3)\n",
    "a[1] = 5"
   ]
  },
  {
   "cell_type": "markdown",
   "id": "99a0b8a0",
   "metadata": {},
   "source": [
    "This is Python reminding us that tuples are **immutable**! We cannot modify their contents after they are specified. "
   ]
  },
  {
   "cell_type": "markdown",
   "id": "ecbe1b69",
   "metadata": {},
   "source": [
    "### <mark style=\"color: black; background-color: rgb(252,185,118); padding: 3px; border-radius: 5px;\">✍️ Exercise: Tuple Practice</mark>\n",
    "\n",
    "Create a tuple containing each letter of your first name as individual items and print it. "
   ]
  },
  {
   "cell_type": "code",
   "execution_count": null,
   "id": "d62d705f",
   "metadata": {
    "tags": []
   },
   "outputs": [],
   "source": []
  },
  {
   "cell_type": "markdown",
   "id": "1de083a9",
   "metadata": {},
   "source": [
    "### <mark style=\"color: black; background-color: rgb(252,185,118); padding: 3px; border-radius: 5px;\">✍️ Exercise: Tuple Practice</mark>"
   ]
  },
  {
   "cell_type": "markdown",
   "id": "f8df949a",
   "metadata": {},
   "source": [
    "Access the first item in the tuple you created and print it. "
   ]
  },
  {
   "cell_type": "code",
   "execution_count": null,
   "id": "9a8b93cf",
   "metadata": {
    "tags": []
   },
   "outputs": [],
   "source": []
  },
  {
   "cell_type": "markdown",
   "id": "b9f5106e",
   "metadata": {},
   "source": [
    "***"
   ]
  },
  {
   "cell_type": "markdown",
   "id": "941666ff",
   "metadata": {},
   "source": [
    "## <mark style=\"color: black; background-color: rgb(127,196,125); padding: 3px; border-radius: 5px;\">7. Data Structures: Dictionaries</mark>"
   ]
  },
  {
   "cell_type": "markdown",
   "id": "98a41617",
   "metadata": {},
   "source": [
    "**Concept.**  \n",
    "Another built-in data structure in Python is a **dictionary**, or `dict`. A `dict` allows you to to associate, or **map**, a **key** to a **value**. Therefore, a `dict` is organized similarly to a phonebook, where a person's name (the key) maps to their phone number (the value). \n",
    "\n",
    "A `dict` is mutable (changeable). It does **not** allow duplicate keys, but can contain duplicate values. \n",
    "\n",
    "The following chart summaries the differences between a `list`, `tuple`, and a `dict`:\n",
    "\n",
    "| Characteristic | `list` | `tuple` | `dict` |\n",
    "|---------|---------|---------|---------|\n",
    "| Ordered? | Yes | Yes | Yes |\n",
    "| Allows changing items? | Yes | No | Yes |\n",
    "| Allows duplicate items?  | Yes | Yes | No duplicate keys |\n",
    "\n",
    "### <mark style=\"color: black; background-color: rgb(190,223,185); padding: 3px; border-radius: 5px;\">Creating a dict</mark>\n",
    "We can create a dictionary using curly brackets {}, with colons : to map keys to values, and commas to separate each mapping: \n",
    "```python\n",
    "mydict = {\n",
    "        1: \"Start\", \n",
    "        2: \"Middle\", \n",
    "        3: \"Finish\"\n",
    "        }\n",
    "```\n",
    "In this example:\n",
    "* Keys: 1, 2, 3\n",
    "* Values: \"Start\", \"Middle\", \"Finish\" \n",
    "\n",
    "Keys can be any data type, and values can be any data type or data structure. \n",
    "\n",
    "Here's an example where a dict contains keys mapped to values that are lists:\n",
    "```python\n",
    "mydict = {\n",
    "        1: \"Start of course\",\n",
    "        2: [\"Lectures\", \"Labs\", \"Office Hours\", \"End\"],\n",
    "        3: [\"Course dinner\", 2025, \"End\"],\n",
    "        }\n",
    "```\n",
    "While we can have duplicate values, we **cannot** have duplicate keys. \n",
    "\n",
    "### <mark style=\"color: black; background-color: rgb(190,223,185); padding: 3px; border-radius: 5px;\">Accessing a key's values</mark>\n",
    "To access the value associated with a specific key in a `dict`, we can use square brackets [] and the key:\n",
    "```python\n",
    "mydict = {\n",
    "        'beginning': \"Start of course\",\n",
    "        'middle': [\"Lectures\", \"Labs\", \"Office Hours\"],\n",
    "        'end': [\"Course dinner\", 2025],\n",
    "        }\n",
    "print(mydict['middle'])\n",
    "> [\"Lectures\", \"Labs\", \"Office Hours\"]\n",
    "```\n",
    "\n",
    "<p class=\"alert alert-info\">\n",
    "<strong>Note:</strong> Accessing values in a `dict` works differently than in a `list` or `tuple`. Lists and tuples use numerical indices based on the order of items, while dictionaries use keys to access values directly, regardless of the order the keys appear in.\n",
    "</p>"
   ]
  },
  {
   "cell_type": "markdown",
   "id": "01701446",
   "metadata": {},
   "source": [
    "### <mark style=\"color: black; background-color: rgb(252,185,118); padding: 3px; border-radius: 5px;\">✍️ Exercise: Dictionary Practice</mark>\n",
    "\n",
    "Create a dictionary containing the following artists as keys and their songs as values:\n",
    "* Hey Jude by the Beatles\n",
    "* Don't Stop Believin by Journey\n",
    "* Hit Me with Your Best Shot by Pat Benatar\n",
    "* With a Little Help from My Friends by the Beatles\n",
    "* Yellow Submarine by the Beatles\n",
    "\n",
    "Print the dictionary. "
   ]
  },
  {
   "cell_type": "code",
   "execution_count": null,
   "id": "1d6b8cad",
   "metadata": {
    "tags": []
   },
   "outputs": [],
   "source": []
  },
  {
   "cell_type": "markdown",
   "id": "9bf4e9b9",
   "metadata": {},
   "source": [
    "### <mark style=\"color: black; background-color: rgb(252,185,118); padding: 3px; border-radius: 5px;\">✍️ Exercise: Dictionary Practice</mark>"
   ]
  },
  {
   "cell_type": "markdown",
   "id": "f42ab7b4",
   "metadata": {},
   "source": [
    "From your dictionary, access the Journey song and print it."
   ]
  },
  {
   "cell_type": "code",
   "execution_count": null,
   "id": "225d710b",
   "metadata": {
    "tags": []
   },
   "outputs": [],
   "source": []
  },
  {
   "cell_type": "markdown",
   "id": "574004b1",
   "metadata": {},
   "source": [
    "***"
   ]
  },
  {
   "cell_type": "markdown",
   "id": "3d7a2fc8",
   "metadata": {},
   "source": [
    "## <mark style=\"color: black; background-color: rgb(127,196,125); padding: 3px; border-radius: 5px;\">8. Data Structures: Sets</mark>"
   ]
  },
  {
   "cell_type": "markdown",
   "id": "b1201ee2",
   "metadata": {},
   "source": [
    "**Concept.**  \n",
    "The final built-in data structure in Python is a `set`. A `set` is made up of **unique** values (no duplicates!) that do not have a specific order and can be changed. \n",
    "\n",
    "The following chart summaries the differences between a `list`, `tuple`, `dict`, and a `set`:\n",
    "\n",
    "| Characteristic | `list` | `tuple` | `dict` | `set` |\n",
    "|---------|---------|---------|---------|---------|\n",
    "| Ordered? | Yes | Yes | Yes | No |\n",
    "| Allows changing items? | Yes | No | Yes | Yes |\n",
    "| Allows duplicate items?  | Yes | Yes | No duplicate keys| No |\n",
    "\n",
    "### <mark style=\"color: black; background-color: rgb(190,223,185); padding: 3px; border-radius: 5px;\">Creating a set</mark>\n",
    "We can create a set by using curly brackets {} with commas to separate items: \n",
    "```python\n",
    "myset = {1, 2, 3}\n",
    "```\n",
    "\n",
    "<p class=\"alert alert-info\">\n",
    "<strong>Note:</strong> Notice how both a set and a dictionary use curly brackets {} to start their definition. Remember that sets are defined with {} and commas separating items, while dictionaries are defined with {} and commas separating keys that are mapped to values with colons.\n",
    "</p>\n",
    "\n",
    "|  | Definition |\n",
    "|---------|---------|\n",
    "| `set` | {\"item1\", \"item2\"} |\n",
    "| `dict` | {\"key1\": \"value\", \"key2\": \"value\"} |\n",
    "\n",
    "Just as with the other 3 data structures, we can put any data type we'd like in a set. For example:\n",
    "```python\n",
    "myset = {'a', 1, 'b', 2.5}\n",
    "```\n",
    "\n",
    "### <mark style=\"color: black; background-color: rgb(190,223,185); padding: 3px; border-radius: 5px;\">Set length</mark>\n",
    "We can get a set's length using `len()`:\n",
    "```python\n",
    "myset = {'a', 'b', 'c'}\n",
    "print(len(myset))\n",
    "> 3\n",
    "```\n",
    "\n",
    "### <mark style=\"color: black; background-color: rgb(190,223,185); padding: 3px; border-radius: 5px;\">Sets do not allow duplicates</mark>\n",
    "Sets automatically remove duplicate items. If your ry to create a set with duplicates, Python will not raise an error, it will just ignore the duplicates. Let's check it out!\n"
   ]
  },
  {
   "cell_type": "markdown",
   "id": "56cdd2d0",
   "metadata": {},
   "source": [
    "### <mark style=\"color: black; background-color: rgb(126,172,182); padding: 3px; border-radius: 5px;\">📓 Example: Duplicate items in a set</mark>"
   ]
  },
  {
   "cell_type": "code",
   "execution_count": null,
   "id": "2ef29909",
   "metadata": {},
   "outputs": [],
   "source": [
    "myset = {\"chocolate\", \"vanilla\", \"strawberry\", \"chocolate\"}\n",
    "print(myset)"
   ]
  },
  {
   "cell_type": "markdown",
   "id": "e84a6478",
   "metadata": {},
   "source": [
    "`\"chocolate\"` does not appear in duplicate when we print `myset`. This is because sets automatically remove duplicates."
   ]
  },
  {
   "cell_type": "markdown",
   "id": "50fd9ab1",
   "metadata": {},
   "source": [
    "### <mark style=\"color: black; background-color: rgb(252,185,118); padding: 3px; border-radius: 5px;\">✍️ Exercise: Set Practice</mark>\n",
    "\n",
    "Create a set containing your favorite ice cream flavors, then print the set. "
   ]
  },
  {
   "cell_type": "code",
   "execution_count": null,
   "id": "6591bae9",
   "metadata": {
    "tags": []
   },
   "outputs": [],
   "source": []
  },
  {
   "cell_type": "markdown",
   "id": "92ec6804",
   "metadata": {},
   "source": [
    "### <mark style=\"color: black; background-color: rgb(252,185,118); padding: 3px; border-radius: 5px;\">✍️ Exercise: Set Practice</mark>"
   ]
  },
  {
   "cell_type": "markdown",
   "id": "1e54fa6f",
   "metadata": {},
   "source": [
    "Now print the length of your set."
   ]
  },
  {
   "cell_type": "code",
   "execution_count": null,
   "id": "8324d8e9",
   "metadata": {
    "tags": []
   },
   "outputs": [],
   "source": []
  },
  {
   "cell_type": "markdown",
   "id": "8dd0d8092fe74a7c96281538738b07e2",
   "metadata": {},
   "source": [
    "### <mark style=\"color: black; background-color: rgb(190,223,185); padding: 3px; border-radius: 5px;\">Accessing items in a set</mark>\n",
    "Since sets contain unordered items, we cannot use indices or keys to access them."
   ]
  },
  {
   "cell_type": "markdown",
   "id": "8d29bf00",
   "metadata": {},
   "source": [
    "***"
   ]
  },
  {
   "cell_type": "markdown",
   "id": "5392b56d",
   "metadata": {},
   "source": [
    "## <mark style=\"color: black; background-color: rgb(127,196,125); padding: 3px; border-radius: 5px;\">9. For Loops</mark>"
   ]
  },
  {
   "cell_type": "markdown",
   "id": "2d7aa434",
   "metadata": {},
   "source": [
    "**Concept.**  \n",
    "In Python, `for` loops let us repeat tasks for each item in a container, such as a `list`, `tuple`, `dict`, or `set`. They are helpful when you have a block of code that you want to repeat a on each item in one of these data structures.\n",
    "\n",
    "Let's consider a countdown timer. We want to print numbers counting down from 5 to 1. In Python, we can do this by specifying this counting sequence as a list `count_sequence` and printing each item by using its index:\n",
    "```python\n",
    "count_sequence = [5, 4, 3, 2, 1] # sequence of counting organized as a list\n",
    "print(count_sequence[0]) # print 5\n",
    "print(count_sequence[1]) # print 4\n",
    "print(count_sequence[2]) # print 3\n",
    "print(count_sequence[3]) # print 2\n",
    "print(count_sequence[4]) # print 1\n",
    "```\n",
    "\n",
    "But wow, that's a lot to type out! Not only is it tedious to type, more typing means more chances to make a mistake. Instead, let's simplify this code by using a `for` loop!\n",
    "\n",
    "### <mark style=\"color: black; background-color: rgb(190,223,185); padding: 3px; border-radius: 5px;\">Setting up a for loop with a list</mark>\n",
    "Instead of repeating the same `print()` line with different list indices, let's use a `for` loop to iterate through the list items. \n",
    "\n",
    "Here is an example of how a `for` loop can be structured to iterate through list items: \n",
    "```python\n",
    "mylist = [1, 2, 3]\n",
    "for item in mylist:\n",
    "    #do something to each item\n",
    "```\n",
    "In this structure, Python is smart enough to know that the variable `item` refers to each item in `mylist`. The loop works like this: \n",
    "1. It starts with the first item, `1`, and runs all indented lines below the `for` line. \n",
    "2. Then it moves to the second item, `2`, and runs those same indented lines again. \n",
    "3. Finally, it processes the third and last item, `3`.\n",
    "Once every item in the list has been used, the `for` loop ends. \n",
    "\n",
    "If we use this `for` loop structure to simplify our countdown code above, we would get: \n",
    "```python\n",
    "count_sequence = [5, 4, 3, 2, 1]\n",
    "for item in count_sequence: \n",
    "    print(item)\n",
    "> 5\n",
    "> 4\n",
    "> 3\n",
    "> 2\n",
    "> 1\n",
    "```\n",
    "Wow! We went from 6 lines of code to 3 lines of code! Yay for loops!"
   ]
  },
  {
   "cell_type": "markdown",
   "id": "dcebe064",
   "metadata": {},
   "source": [
    "### <mark style=\"color: black; background-color: rgb(252,185,118); padding: 3px; border-radius: 5px;\">✍️ Exercise: For loop practice with lists</mark>\n",
    "\n",
    "You're playing hide and seek and want to use Python to count to 10. Write Python code that will print out your count up from 1 to 10 by using the following list for the count sequence: \n",
    "```python\n",
    "count = [1, 2, 3, 4, 5, 6, 7, 8, 9, 10]\n",
    "```"
   ]
  },
  {
   "cell_type": "code",
   "execution_count": null,
   "id": "9f56b0ff",
   "metadata": {
    "tags": []
   },
   "outputs": [],
   "source": []
  },
  {
   "cell_type": "markdown",
   "id": "221c1b31",
   "metadata": {},
   "source": [
    "### <mark style=\"color: black; background-color: rgb(190,223,185); padding: 3px; border-radius: 5px;\">Setting up a for loop with a tuple</mark>\n",
    "`for` loops also can iterate over tuples. Here's an example of the same hide and seek code, but instead of organizing the count in a `list`, we'll organize it in a `tuple`. \n",
    "```python\n",
    "count = (1, 2, 3, 4, 5, 6, 7, 8, 9, 10) # counting sequence as a tuple\n",
    "for item in count:\n",
    "    print(item)\n",
    "> 1\n",
    "> 2\n",
    "> 3\n",
    "> 4\n",
    "> 5\n",
    "> 6\n",
    "> 7\n",
    "> 8\n",
    "> 9\n",
    "> 10\n",
    "```\n",
    "The loop works the exact same way as it did with a list: Python takes each item from the tuple in order and runs the indented code for each one. \n",
    "\n",
    "### <mark style=\"color: black; background-color: rgb(190,223,185); padding: 3px; border-radius: 5px;\">Setting up a for loop with a dict</mark>\n",
    "`for` loops can iterate over dictionaries too. Here's an example of using a `for` loop to iterate over `mydict` dictionary's keys:\n",
    "```python\n",
    "mydict = {\n",
    "        1: \"Start\", \n",
    "        2: \"Middle\", \n",
    "        3: \"Finish\"\n",
    "        }\n",
    "for key in mydict:\n",
    "    print(key)\n",
    "> 1\n",
    "> 2\n",
    "> 3\n",
    "``` \n",
    "In this loop, Python goes through each **key** in the `dict` and runs the indented code for each one. \n",
    "\n",
    "### <mark style=\"color: black; background-color: rgb(190,223,185); padding: 3px; border-radius: 5px;\">Setting up a for loop with a set</mark>\n",
    "You can also use a `for` loop to iterate over a set. However, remember that **sets are not ordered**, so the items may not appear in the order you defined them. \n",
    "\n",
    "Consider the following set `myset`:\n",
    "```python\n",
    "myset = {\"apple\", \"banana\", \"coconut\"}\n",
    "```\n",
    "We can use a `for` loop to print each item in `myset`:\n",
    "```python\n",
    "for item in myset:\n",
    "    print(item)\n",
    "> \"banana\"\n",
    "> \"apple\"\n",
    "> \"coconut\"\n",
    "```\n",
    "Notice that the order of the printed items may not match the order in which they were defined. This is because **sets are not ordered.**"
   ]
  },
  {
   "cell_type": "markdown",
   "id": "20adf832",
   "metadata": {},
   "source": [
    "***"
   ]
  },
  {
   "cell_type": "markdown",
   "id": "b7cfbcf3",
   "metadata": {},
   "source": [
    "## <mark style=\"color: black; background-color: rgb(127,196,125); padding: 3px; border-radius: 5px;\">10. If Statements</mark>"
   ]
  },
  {
   "cell_type": "markdown",
   "id": "fcee62ce",
   "metadata": {},
   "source": [
    "**Concept.**  \n",
    "Let's consider a situation where you are using a `for` loop to automate a series of tasks, but at a certain step you want to do something *extra* or *skip* something. In Python, `if` statements are used to conditionally conduct lines of code. `if` statements allow your code to **make decisions** and **branch** into different paths depending on whether conditions are met.\n",
    "\n",
    "**`if` statement keywords**\n",
    "\n",
    "- `if`: runs the indented code **only if** the condition is `True`\n",
    "- `elif`: (short for \"else if\") — Checks another condition **if the previous one was** `False`\n",
    "- `else`: A fallback — runs **only if** all above conditions are `False`\n",
    "\n",
    "\n",
    "### <mark style=\"color: black; background-color: rgb(190,223,185); padding: 3px; border-radius: 5px;\">How to structure an if statement in Python</mark>\n",
    "```python\n",
    "if condition:\n",
    "    # do something\n",
    "```\n",
    "\n",
    "For example, let's say in our hide and seek count up, we want to warn everyone to hurry up once we count to 7. We can add an `if` statement inside our `for` loop to do this. "
   ]
  },
  {
   "cell_type": "markdown",
   "id": "40bb03f7",
   "metadata": {},
   "source": [
    "### <mark style=\"color: black; background-color: rgb(126,172,182); padding: 3px; border-radius: 5px;\">📓 Example: If statement</mark>"
   ]
  },
  {
   "cell_type": "code",
   "execution_count": null,
   "id": "a7edefd5",
   "metadata": {},
   "outputs": [],
   "source": [
    "count_sequence = [1, 2, 3, 4, 5, 6, 7, 8, 9, 10]\n",
    "for item in count_sequence:\n",
    "    print(item)\n",
    "    if item == 7:  # if we're on the count of 7,\n",
    "        print(\"Hurry up!\")  # then print \"Hurry up!\""
   ]
  },
  {
   "cell_type": "markdown",
   "id": "2be33085",
   "metadata": {},
   "source": [
    "In this code, \"Hurry up!\" will only print when we are on item 7 in `count_sequence`. For other items, Python skipped the `if` block because the condition `item==7` was not `True`. \n",
    "\n",
    " ### Multiple if statements in Python \n",
    "Sometimes we will want to check **more than one condition**. Python allows you do do this using a series of `if`, `elif`, and `else` blocks:\n",
    "\n",
    "```python \n",
    " if condition_1: \n",
    "    # do this if condition_1 is True\n",
    " elif condition_2: \n",
    "    # do this if condition_1 is False and condition_2 is True\n",
    " elif condition_3:\n",
    "    # do this if all above are False and condition_3 is True\n",
    " else:\n",
    "    # do this if none of the above conditions are True\n",
    "\n",
    "```\n",
    "Python will ready these conditions **in order** from top to bottom. As soon as it finds a `True` condition, it runs that block and skips the rest. The `else` block is optional, but it is a useful fallback when no conditions are met. "
   ]
  },
  {
   "cell_type": "markdown",
   "id": "6b76ed1a",
   "metadata": {},
   "source": [
    "### <mark style=\"color: black; background-color: rgb(126,172,182); padding: 3px; border-radius: 5px;\">📓 Example: Multiple if statements</mark>"
   ]
  },
  {
   "cell_type": "code",
   "execution_count": null,
   "id": "7df699f6",
   "metadata": {},
   "outputs": [],
   "source": [
    "mylist = [1, 2, 3]\n",
    "for item in mylist:\n",
    "    if item == 2:\n",
    "        print(\"Python rocks!\")\n",
    "    elif item > 1:\n",
    "        ...\n",
    "    else:\n",
    "        print(\"*\")"
   ]
  },
  {
   "cell_type": "markdown",
   "id": "3e83607b",
   "metadata": {},
   "source": [
    "### <mark style=\"color: black; background-color: rgb(190,223,185); padding: 3px; border-radius: 5px;\">Logical operators</mark>\n",
    "When constructing `if` statements, it is often useful to combine multiple conditions using **logical operators**. Logical operators enable us to check for more than one condition at once.\n",
    "\n",
    "| Operator | Description | Example |\n",
    "|---------|---------|----------------|\n",
    "| `and` | Returns ```True``` if both statements are true | variable_1>1 and variable_2<5 |\n",
    "| `or` | Returns ```True``` if one of the statements is true | variable_1>1 or variable_2<5> |\n",
    "\n",
    "Logical operators usually return a ```bool```, which is either ```True``` or ```False```."
   ]
  },
  {
   "cell_type": "markdown",
   "id": "72eea5119410473aa328ad9291626812",
   "metadata": {},
   "source": [
    "### <mark style=\"color: black; background-color: rgb(126,172,182); padding: 3px; border-radius: 5px;\">📓 Example: Logical operators</mark>"
   ]
  },
  {
   "cell_type": "code",
   "execution_count": null,
   "id": "8edb47106e1a46a883d545849b8ab81b",
   "metadata": {},
   "outputs": [],
   "source": [
    "variable_1 = 1\n",
    "variable_2 = 2\n",
    "print(variable_1 < 3 and variable_2 < 5)  # prints True"
   ]
  },
  {
   "cell_type": "markdown",
   "id": "10185d26023b46108eb7d9f57d49d2b3",
   "metadata": {},
   "source": [
    "Let's see an example! Suppose you bought two different lottery tickets and want to use Python to check if either ticket wins a grand prize. You can do this using an `if` statement with the `or` operator:\n",
    "\n",
    "```python\n",
    "winning_number_1 = 314159\n",
    "winning_number_2 = 628318\n",
    "lottery_tickets = [628318, 271828]\n",
    "for number in lottery_tickets: \n",
    "    if number==winning_number_1 or number==winning_number_2:\n",
    "        print(\"Congratulations! You won!\")\n",
    "```\n",
    "Since no items in `lottery_tickets` match `winning_number_1`, the first portion of the `if` statement is always going to be `False`. However, the first item in `lottery_tickets` is the same as `winning_number_2`, so in the first loop `number==winning_number_2` will be `True`. Therefore, in the first loop we will have `False` or `True`, which will yield `True`. We will consequently see the following printed in the first loop: \n",
    "```python\n",
    "> \"Congratulations! You won!\"\n",
    "```\n",
    "The second loop has `False` or `False`, which will yield `False`. Therefore, nothing will be printed in the second loop. Let's confirm!"
   ]
  },
  {
   "cell_type": "markdown",
   "id": "9c16dc19",
   "metadata": {},
   "source": [
    "### <mark style=\"color: black; background-color: rgb(126,172,182); padding: 3px; border-radius: 5px;\">📓 Example: Logical operators in if statements</mark>"
   ]
  },
  {
   "cell_type": "code",
   "execution_count": null,
   "id": "7056f3bc",
   "metadata": {},
   "outputs": [],
   "source": [
    "winning_number_1 = 314159\n",
    "winning_number_2 = 628318\n",
    "lottery_tickets = [628318, 271828]\n",
    "for number in lottery_tickets:\n",
    "    if number == winning_number_1 or number == winning_number_2:\n",
    "        print(\"Congratulations! You won!\")"
   ]
  },
  {
   "cell_type": "markdown",
   "id": "9b2d4b8f",
   "metadata": {},
   "source": [
    "### <mark style=\"color: black; background-color: rgb(252,185,118); padding: 3px; border-radius: 5px;\">✍️ Exercise: Guess the output before running the code!</mark>"
   ]
  },
  {
   "cell_type": "code",
   "execution_count": null,
   "id": "b7ac72f1",
   "metadata": {},
   "outputs": [],
   "source": [
    "mylist = [1, 2, 3]\n",
    "for item in mylist:\n",
    "    if item > 0 or item < 5:\n",
    "        print(\"if statements are cool\")\n",
    "    else:\n",
    "        print(\"if statements aren't very cool\")"
   ]
  },
  {
   "cell_type": "markdown",
   "id": "0f803c1d",
   "metadata": {},
   "source": [
    "### <mark style=\"color: black; background-color: rgb(190,223,185); padding: 3px; border-radius: 5px;\">Breaking a loop</mark>\n",
    "Sometimes, you may want to stop a `for` loop early, for example, once a condition is met. You can use `break` to exit the loop. \n",
    "\n",
    "Consider that hide and seek counting code again. We want to count normally, remind everyone to \"Hurry up!\" at the count of 7, and stop counting after 9, since everyone is hidden. Here is how we can do this:\n",
    "```python\n",
    "count_sequence = [1, 2, 3, 4, 5, 6, 7, 8, 9, 10]\n",
    "for item in count_sequence:\n",
    "    print(item)\n",
    "    if item==7: # if we're on the count of 7,\n",
    "        print(\"Hurry up!\") # then print \"Hurry up!\"\n",
    "    if item>9:\n",
    "        break # end the entire for loop\n",
    "\n",
    " ```\n",
    " \n",
    " Check it out for yourself! Run the code below. Does \"Hurry up!\" print?"
   ]
  },
  {
   "cell_type": "markdown",
   "id": "d5d5664a",
   "metadata": {},
   "source": [
    "### <mark style=\"color: black; background-color: rgb(126,172,182); padding: 3px; border-radius: 5px;\">📓 Example: Using break in a loop</mark>"
   ]
  },
  {
   "cell_type": "code",
   "execution_count": null,
   "id": "7ef004ce",
   "metadata": {},
   "outputs": [],
   "source": [
    "count_sequence = [1, 2, 3, 4, 5, 6, 7, 8, 9, 10]\n",
    "for item in count_sequence:\n",
    "    print(item)\n",
    "    if item == 7:  # if we're on the count of 7,\n",
    "        print(\"Hurry up!\")  # then print \"Hurry up!\"\n",
    "    if item > 9:\n",
    "        break  # end the entire for loop"
   ]
  },
  {
   "cell_type": "markdown",
   "id": "57a36cbf",
   "metadata": {},
   "source": [
    "### <mark style=\"color: black; background-color: rgb(190,223,185); padding: 3px; border-radius: 5px;\">Continuing a loop</mark>\n",
    "What if we don't want to completely exit a `for` loop, but instead want to skip the rest of the code for a particular iteration? We can use `continue`. \n",
    "\n",
    "Consider the hide and seek counting code again:\n",
    "```python\n",
    "count_sequence = [1, 2, 3, 4, 5, 6, 7, 8, 9, 10]\n",
    "for item in count_sequence:\n",
    "    print(item)\n",
    "    if item==7: # if we're on the count of 7,\n",
    "        continue # skips anything else below when item==7\n",
    "        print(\"Hurry up!\") # then print \"Hurry up!\"\n",
    " ```\n",
    " If we use `continue` above our \"Hurry up!\" print line, then the count will continue to the next iteration without printing \"Hurry up!\"\n",
    "\n",
    " Check it out for yourself! Run the code below. Does \"Hurry up!\" print?"
   ]
  },
  {
   "cell_type": "markdown",
   "id": "ce5e672b",
   "metadata": {},
   "source": [
    "### <mark style=\"color: black; background-color: rgb(126,172,182); padding: 3px; border-radius: 5px;\">📓 Example: Using continue in a loop</mark>"
   ]
  },
  {
   "cell_type": "code",
   "execution_count": null,
   "id": "4c4ec3b1",
   "metadata": {},
   "outputs": [],
   "source": [
    "count_sequence = [1, 2, 3, 4, 5, 6, 7, 8, 9, 10]\n",
    "for item in count_sequence:\n",
    "    print(item)\n",
    "    if item == 7:  # if we're on the count of 7,\n",
    "        continue  # skips anything else below when item==7\n",
    "        print(\"Hurry up!\")  # then print \"Hurry up!\""
   ]
  },
  {
   "cell_type": "markdown",
   "id": "88fb49c8",
   "metadata": {},
   "source": [
    "***"
   ]
  },
  {
   "cell_type": "markdown",
   "id": "4edcb9fa",
   "metadata": {},
   "source": [
    "## <mark style=\"color: black; background-color: rgb(127,196,125); padding: 3px; border-radius: 5px;\">11. Functions</mark>"
   ]
  },
  {
   "cell_type": "markdown",
   "id": "4326bb68",
   "metadata": {},
   "source": [
    "**Concept.**  \n",
    "In many applications, Python code can become long and complex, which makes it harder to read, debug, and reuse. To organize code by tasks, we use **functions**. A function is a block of code that performs a specific task. It is organized to have a **name**, **inputs (parameters)**, and **outputs (return values)**. \n",
    "\n",
    "### <mark style=\"color: black; background-color: rgb(190,223,185); padding: 3px; border-radius: 5px;\">How to write a function</mark>\n",
    "We structure functions as follows: \n",
    "```python\n",
    "def function_name(parameters): \n",
    "    # do task here\n",
    "    return value\n",
    "```\n",
    "In this function:\n",
    "* `function_name` is the name of the function\n",
    "* `parameters` are inputs the function uses\n",
    "* `return` specifies the output `value` the function gives back \n",
    "\n",
    "We can use the function by **calling** it. That can be done as follows: \n",
    "```python\n",
    "function_name(arguments) # calling the function with actual inputs called arguments\n",
    "```\n",
    "Note that `parameters` in the `function_name` definition is a placeholder for what you will actually want to input into the function. In the example above where we call the function `function_name`, `arguments` is the actual input passed into the function to use to generate a `value` to return. \n",
    "\n",
    "### <mark style=\"color: black; background-color: rgb(190,223,185); padding: 3px; border-radius: 5px;\">Best Practices for Labeling Functions</mark>\n",
    "When creating functions, it is good practice to add additional information about what the function does and what inputs and outputs it expects. This makes your code easier to understand for others and future you.\n",
    "\n",
    "#### Adding a docstring\n",
    "We can add a `\"\"\"docstring\"\"\"`, which is a string enclosed in triple quotes \"\"\" \"\"\", to describe what the function does. Python ignores the content of the docstring when running the code. \n",
    "```python\n",
    "def function_name(parameters): \n",
    "    \"\"\"Description of what the function does here\"\"\"\n",
    "    # do task here\n",
    "    return value\n",
    "```\n",
    "\n",
    "#### Adding type labels\n",
    "We can also add `type` labels to specify the expected data types for the function's inputs and outputs. These labels will make it easier use the function correctly.\n",
    "```python\n",
    "def function_name(parameters:type) -> type: \n",
    "    \"\"\"Description of what the function does here\"\"\"\n",
    "    # do task here\n",
    "    return value\n",
    "```\n",
    "\n",
    "### <mark style=\"color: black; background-color: rgb(190,223,185); padding: 3px; border-radius: 5px;\">Functions with multiple inputs</mark>\n",
    "Functions can take multiple inputs by listing parameters separated by commas. Here's an example:\n",
    "```python\n",
    "def my_function(x:int, y:float) -> int: \n",
    "    \"\"\"Description of what the function does here\"\"\"\n",
    "    # do task here\n",
    "    return value\n",
    "```"
   ]
  },
  {
   "cell_type": "markdown",
   "id": "504fb2a444614c0babb325280ed9130a",
   "metadata": {},
   "source": [
    "### <mark style=\"color: black; background-color: rgb(252,185,118); padding: 3px; border-radius: 5px;\">✍️ Exercise: Writing a function</mark>\n",
    "Write a function that adds two inputted values and returns the result."
   ]
  },
  {
   "cell_type": "code",
   "execution_count": null,
   "id": "938c804e27f84196a10c8828c723f798",
   "metadata": {
    "tags": []
   },
   "outputs": [],
   "source": []
  },
  {
   "cell_type": "markdown",
   "id": "5e617117",
   "metadata": {},
   "source": [
    "### <mark style=\"color: black; background-color: rgb(252,185,118); padding: 3px; border-radius: 5px;\">✍️ Exercise: More function writing practice</mark>\n",
    "\n",
    "Let's go back to our previous example of hide and seek counting. Our code was:\n",
    "\n",
    "```python\n",
    "count = [1, 2, 3, 4, 5, 6, 7, 8, 9, 10] # counting sequence as a list\n",
    "for item in count:\n",
    "        print(item)\n",
    "```\n",
    "\n",
    "Now, let's edit this code to write a function for the task of counting and run it to see if our counter still works!"
   ]
  },
  {
   "cell_type": "code",
   "execution_count": null,
   "id": "1f4aed89",
   "metadata": {
    "tags": []
   },
   "outputs": [],
   "source": []
  }
 ],
 "metadata": {
  "kernelspec": {
   "display_name": "Python 3 (ipykernel)",
   "language": "python",
   "name": "python3"
  },
  "language_info": {
   "codemirror_mode": {
    "name": "ipython",
    "version": 3
   },
   "file_extension": ".py",
   "mimetype": "text/x-python",
   "name": "python",
   "nbconvert_exporter": "python",
   "pygments_lexer": "ipython3",
   "version": "3.12.9"
  }
 },
 "nbformat": 4,
 "nbformat_minor": 5
}
