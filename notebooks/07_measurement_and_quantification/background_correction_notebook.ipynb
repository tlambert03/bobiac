{
 "cells": [
  {
   "cell_type": "markdown",
   "id": "16a60488",
   "metadata": {},
   "source": [
    "# Background Correction Notebook"
   ]
  },
  {
   "cell_type": "code",
   "execution_count": null,
   "id": "9f33553a",
   "metadata": {},
   "outputs": [],
   "source": [
    "# /// script\n",
    "# requires-python = \">=3.10\"\n",
    "# dependencies = [\n",
    "#     \"matplotlib\",\n",
    "#     \"ndv[jupyter,vispy]\",\n",
    "#     \"numpy\",\n",
    "#     \"scikit-image\",\n",
    "#     \"scipy\",\n",
    "#     \"tifffile\",\n",
    "#     \"imagecodecs\",\n",
    "# ]\n",
    "# ///"
   ]
  },
  {
   "cell_type": "markdown",
   "id": "c9dce539",
   "metadata": {},
   "source": [
    "## <mark style=\"color: black; background-color: rgb(127,196,125); padding: 3px; border-radius: 5px;\">Overview</mark>\n",
    "\n",
    "In this notebook, we will explore different approaches to **background correction** in fluorescence microscopy images. Background correction is a crucial pre-processing step that helps remove unwanted background signal and improves the quality of quantitative analysis. We will use the [**scikit-image**](https://scikit-image.org/docs/stable/) library to perform the background correction. Background subtraction is useful when the background is uniform and the signal to noise ratio is high.\n",
    "\n",
    "We will demonstrate a simple background subtraction method using a sample fluorescence image. The main approaches we'll cover are:\n",
    "\n",
    "- Subtracting a constant background value (e.g. mode or median of the image)\n",
    "- Selecting and averaging background regions to determine background level\n",
    "\n",
    "The choice of method depends on your specific imaging conditions and the nature of the background in your images. Here we'll demonstrate a basic approach that works well for images with relatively uniform background and distinct fluorescent signals.\n",
    "\n",
    "<p class=\"alert alert-info\">\n",
    "    <strong>Note:</strong> Background correction should be done on raw images before any other processing steps. The corrected images can then be used for further analysis like segmentation and quantification.\n",
    "</p>\n",
    "\n",
    "The images we will use for this section can be downloaded from the <a href=\"../../../_static/data/07_measurement_and_quantification.zip\" download> <i class=\"fas fa-download\"></i> Measurement and Quantification Dataset</a>."
   ]
  },
  {
   "cell_type": "markdown",
   "id": "efecac1b",
   "metadata": {},
   "source": [
    "## <mark style=\"color: black; background-color: rgb(127,196,125); padding: 3px; border-radius: 5px;\">Importing libraries</mark>"
   ]
  },
  {
   "cell_type": "code",
   "execution_count": 9,
   "id": "eba1c2bf",
   "metadata": {},
   "outputs": [],
   "source": [
    "import matplotlib.pyplot as plt\n",
    "import ndv\n",
    "import numpy as np\n",
    "import scipy\n",
    "import skimage\n",
    "import tifffile"
   ]
  },
  {
   "cell_type": "markdown",
   "id": "7e61eb55",
   "metadata": {},
   "source": [
    "## <mark style=\"color: black; background-color: rgb(127,196,125); padding: 3px; border-radius: 5px;\">Background subtraction: mode subtraction </mark>\n",
    "\n",
    "Background subtraction can be done in different ways. If the background dominates the image as in the example we will use, the most common pixel value (the **mode value**) can serve as a rough background estimate and we can subtract this value from the image.\n",
    "\n",
    "Let's first load, display with `ndv` and explore the pixel values of the `07_bg_corr_nuclei.tif` image."
   ]
  },
  {
   "cell_type": "code",
   "execution_count": 16,
   "id": "02af28b6",
   "metadata": {},
   "outputs": [],
   "source": [
    "# raw image and labeled mask\n",
    "image = tifffile.imread(\"../../_static/images/quant/07_bg_corr_nuclei.tif\")"
   ]
  },
  {
   "cell_type": "code",
   "execution_count": null,
   "id": "0cc6880d",
   "metadata": {
    "tags": []
   },
   "outputs": [],
   "source": [
    "ndv.imshow(image)"
   ]
  },
  {
   "cell_type": "markdown",
   "id": "39714a0d",
   "metadata": {},
   "source": [
    "As you can notice, most of the pixel in the image belong to the background (anything but the nuclei). Therefore we can try to use the **mode value** of the image as a background estimate. We can use the `scipy.stats.mode` function to compute the mode of the image. "
   ]
  },
  {
   "cell_type": "code",
   "execution_count": null,
   "id": "c6681cb2",
   "metadata": {
    "tags": []
   },
   "outputs": [],
   "source": []
  },
  {
   "cell_type": "markdown",
   "id": "213bee35",
   "metadata": {},
   "source": [
    "Then, we can subtract the **mode value** from the image and print the minimum and maximum pixel values of the resulting image.\n",
    "\n",
    "<p class=\"alert alert-info\">\n",
    "    <strong>Important:</strong> Before performing subtraction, convert the image to a <strong>floating-point</strong> (e.g., <code>image.astype(np.float32)</code>. This prevents <strong>unsigned integer underflow</strong>, which occurs when subtracting the mode value from pixels with intensities lower than the mode. In unsigned integer formats (like <code>uint16</code>), negative results wrap around to very large positive values (e.g., -1 becomes 65535), leading to incorrect results.\n",
    "</p>"
   ]
  },
  {
   "cell_type": "code",
   "execution_count": null,
   "id": "09ce4ff0",
   "metadata": {
    "tags": []
   },
   "outputs": [],
   "source": []
  },
  {
   "cell_type": "markdown",
   "id": "bbf3cea0",
   "metadata": {},
   "source": [
    "As you can see there are some negative values in the resulting image. This is because some pixels in the original image had values lower than the mode value, and when we subtract the mode from these pixels, we get negative values.\n",
    "\n",
    "To keep working with the image, we need to handle these negative values. One common approach is to clip the negative values to zero, effectively setting any negative pixel values to zero. This is appropriate since we want background-corrected intensities to be greater than or equal to zero.\n",
    "\n",
    "For that, we can use the `numpy` `np.clip` function to set any negative values to zero and then print the minimum and maximum pixel values of the resulting image."
   ]
  },
  {
   "cell_type": "code",
   "execution_count": null,
   "id": "287435d2",
   "metadata": {
    "tags": []
   },
   "outputs": [],
   "source": []
  },
  {
   "cell_type": "markdown",
   "id": "087ffc20",
   "metadata": {},
   "source": [
    "Finally, we can visualize the background-corrected image (either with `matplotlib` or `ndv`):"
   ]
  },
  {
   "cell_type": "code",
   "execution_count": null,
   "id": "1811d569",
   "metadata": {
    "tags": []
   },
   "outputs": [],
   "source": []
  },
  {
   "cell_type": "markdown",
   "id": "714947e7",
   "metadata": {},
   "source": [
    "## <mark style=\"color: black; background-color: rgb(127,196,125); padding: 3px; border-radius: 5px;\">Background subtraction: selected regions</mark>\n",
    "\n",
    "Sometimes the background isn't uniform, or the mode isn't representative. In these cases, we can manually choose one (or more) region we believe contains only background, estimate the average intensity in that region and subtract this average value from the image.\n",
    "\n",
    "To select regions it might be helpful to first plot the images with the axis turned on, so we can estimate the pixel coordinates of the regions we want to select. Using `matplotlib`, we can even visualize and draw on the image the pixel values in the selected regions with the [`plt.gca().add_patch()`](https://matplotlib.org/stable/api/_as_gen/matplotlib.axes.Axes.add_patch.html#matplotlib-axes-axes-add-patch) function."
   ]
  },
  {
   "cell_type": "code",
   "execution_count": null,
   "id": "84ee4439",
   "metadata": {
    "tags": []
   },
   "outputs": [],
   "source": []
  },
  {
   "cell_type": "markdown",
   "id": "fef11436",
   "metadata": {},
   "source": [
    "Now we can calculate the mean within the selected region."
   ]
  },
  {
   "cell_type": "code",
   "execution_count": null,
   "id": "fa8e98d8",
   "metadata": {
    "tags": []
   },
   "outputs": [],
   "source": []
  },
  {
   "cell_type": "markdown",
   "id": "a2e33253",
   "metadata": {},
   "source": [
    "As we did before, we can subtract this value from the image, and clip the result to ensure no negative values remain."
   ]
  },
  {
   "cell_type": "code",
   "execution_count": null,
   "id": "5d97266a",
   "metadata": {
    "tags": []
   },
   "outputs": [],
   "source": []
  },
  {
   "cell_type": "markdown",
   "id": "fdf99988",
   "metadata": {},
   "source": [
    "Finally, we can visualize the background-corrected image (either with `matplotlib` or `ndv`):"
   ]
  },
  {
   "cell_type": "code",
   "execution_count": null,
   "id": "f7e0fe0f",
   "metadata": {
    "tags": []
   },
   "outputs": [],
   "source": []
  },
  {
   "cell_type": "markdown",
   "id": "c680c68d",
   "metadata": {},
   "source": [
    "## <mark style=\"color: black; background-color: rgb(127,196,125); padding: 3px; border-radius: 5px;\">Background subtraction: rolling ball algorithm</mark>\n",
    "\n",
    "Another way of performing background subtraction is the rolling ball algorithm. This is a method that uses a [rolling ball](https://scikit-image.org/docs/stable/auto_examples/segmentation/plot_rolling_ball.html) to estimate the background. It is a good method to use when the background is not uniform.\n",
    "\n",
    "The radius parameter configures how distant pixels should be taken into account for determining the background intensity and should be a bit bigger than the size of the structures you want to keep.\n",
    "\n",
    "Let's first load another image of a Drosophila embryo that has a non-uniform background:"
   ]
  },
  {
   "cell_type": "code",
   "execution_count": 71,
   "id": "afd39bc4",
   "metadata": {},
   "outputs": [],
   "source": [
    "# raw image\n",
    "image = tifffile.imread(\"../../_static/images/quant/07_bg_corr_WF_drosophila.tif\")"
   ]
  },
  {
   "cell_type": "markdown",
   "id": "022fc75f",
   "metadata": {},
   "source": [
    "Let's explore the pixel values of the image with `ndv`:"
   ]
  },
  {
   "cell_type": "code",
   "execution_count": null,
   "id": "ac1e6fee",
   "metadata": {
    "tags": []
   },
   "outputs": [],
   "source": [
    "ndv.imshow(image)"
   ]
  },
  {
   "cell_type": "markdown",
   "id": "4cf40f91",
   "metadata": {},
   "source": [
    "We can now estimate the background by using the rolling ball algorithm. Since this function returns an image (which is the background we want to subtract), we can also visualize it with `matplotlib`:"
   ]
  },
  {
   "cell_type": "code",
   "execution_count": null,
   "id": "96ba13cb",
   "metadata": {
    "tags": []
   },
   "outputs": [],
   "source": []
  },
  {
   "cell_type": "markdown",
   "id": "c708e78d",
   "metadata": {},
   "source": [
    "We can now subtract the background residue from the image and plot with `matplotlib` the raw image, the background image, and the background-corrected image:\n"
   ]
  },
  {
   "cell_type": "code",
   "execution_count": null,
   "id": "994b38b2",
   "metadata": {
    "tags": []
   },
   "outputs": [],
   "source": []
  },
  {
   "cell_type": "markdown",
   "id": "8278b45d",
   "metadata": {},
   "source": [
    "## <mark style=\"color: black; background-color: rgb(127,196,125); padding: 3px; border-radius: 5px;\">Other Background Subtraction Techniques</mark>\n",
    "\n",
    "These are more advanced or specialized techniques you can explore:\n",
    "\n",
    "- **Morphological opening**: Removes small foreground objects to approximate the background.\n",
    "- **Gaussian/median filtering**: Smooths out the image to isolate large-scale variations.\n",
    "- **Polynomial surface fitting**: Useful when background varies gradually across the field.\n",
    "- **Tiled/local background subtraction**: Estimate and subtract background patch-by-patch.\n",
    "\n",
    "Your method choice should depend on image modality, signal-to-noise, and application.\n",
    "\n",
    "A good reference for background correction is the [scikit-image documentation](https://scikit-image.org/docs/0.25.x/api/skimage.restoration.html).\n"
   ]
  }
 ],
 "metadata": {
  "kernelspec": {
   "display_name": "optiBIA",
   "language": "python",
   "name": "python3"
  },
  "language_info": {
   "codemirror_mode": {
    "name": "ipython",
    "version": 3
   },
   "file_extension": ".py",
   "mimetype": "text/x-python",
   "name": "python",
   "nbconvert_exporter": "python",
   "pygments_lexer": "ipython3",
   "version": "3.8.19"
  }
 },
 "nbformat": 4,
 "nbformat_minor": 5
}
