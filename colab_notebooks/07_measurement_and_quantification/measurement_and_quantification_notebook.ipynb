{
 "cells": [
  {
   "cell_type": "markdown",
   "id": "16a60488",
   "metadata": {},
   "source": [
    "# Measurements & Quantification Notebook"
   ]
  },
  {
   "cell_type": "code",
   "execution_count": null,
   "id": "9f33553a",
   "metadata": {},
   "outputs": [],
   "source": [
    "%pip install matplotlib\n",
    "%pip install numpy\n",
    "%pip install scikit-image\n",
    "%pip install scipy\n",
    "%pip install tifffile\n",
    "%pip install imagecodecs\n",
    "%pip install pandas"
   ]
  },
  {
   "cell_type": "markdown",
   "id": "c9dce539",
   "metadata": {},
   "source": [
    "## Overview\n",
    "\n",
    "In this notebook, we will explore one possible approach to **extracting**, **measuring**, and **quantifying** information from **fluorescence microscopy images**, or, in other words, how to **go from images, to numbers, to plots**.\n",
    "\n",
    "While fluorescence images can contain a wide range of information, in this notebook, as an example, we will focus on extracting **quantitative information** about the **intensity** of the fluorescence signal and the **morphology** of the objects in the image, mainly using the [**scikit-image**](https://scikit-image.org/docs/stable/) library.\n",
    "\n",
    "In addition, we will learn how to save the extracted information as a **.csv file** using the [**pandas**](https://pandas.pydata.org/docs/) library.\n",
    "\n",
    "The images we will use for this section can be downloaded from the <a href=\"\" download> <i class=\"fas fa-download\"></i> Classic Segmentation Dataset</a>. We will also need the **labelled images** that we created in the [Classic Segmentation](../05_segmentation/classic/classic.md) section.\n",
    "\n",
    "<p class=\"alert alert-info\">\n",
    "    <strong>Note:</strong> The images from <strong>Classic Segmentation Dataset</strong> have been pre-processed to remove the background and correct for illumination variations (flat-field correction) and are therefore of type <strong>float32</strong>.\n",
    "</p>\n",
    "\n",
    "**TODO: UPDATE THE LINK TO THE DATASET AND TO THE CLASSIC SEGMENTATION**\n",
    "**THE DATASET IS TOO BIG TO BE STORED ON GITHUB**"
   ]
  },
  {
   "cell_type": "markdown",
   "id": "efecac1b",
   "metadata": {},
   "source": [
    "## Importing libraries"
   ]
  },
  {
   "cell_type": "code",
   "execution_count": 1,
   "id": "eba1c2bf",
   "metadata": {},
   "outputs": [],
   "source": [
    "from pathlib import Path\n",
    "\n",
    "import matplotlib.pyplot as plt\n",
    "import numpy as np\n",
    "import pandas as pd\n",
    "import skimage\n",
    "import tifffile"
   ]
  },
  {
   "cell_type": "markdown",
   "id": "8c36ee78",
   "metadata": {},
   "source": [
    "## Load and Display Images\n",
    "\n",
    "Let's load and display with `matplotlib` our raw and segmented images (labeled images):"
   ]
  },
  {
   "cell_type": "code",
   "execution_count": null,
   "id": "b15254b8",
   "metadata": {
    "tags": []
   },
   "outputs": [],
   "source": []
  },
  {
   "cell_type": "markdown",
   "id": "ab9d4825",
   "metadata": {},
   "source": [
    "## Accessing single objects in the labeled image\n",
    "\n",
    "Remember that a **labeled image** is an image where each pixel is assigned a **unique value** (or label) that corresponds to a specific object or region in the image, in our case, nuclei. This means that each nucleus in the image is represented by a unique integer value, and all pixels that belong to the same nucleus share the same value.\n",
    "\n",
    "For example, let's try to create a new image that contains only the pixels of the first nucleus in the labeled image:"
   ]
  },
  {
   "cell_type": "code",
   "execution_count": null,
   "id": "c6681cb2",
   "metadata": {
    "tags": []
   },
   "outputs": [],
   "source": []
  },
  {
   "cell_type": "markdown",
   "id": "ae81c107",
   "metadata": {},
   "source": [
    "This new image we obtained is a **boolean binary mask** with value `False` for background and `True` for the nucleus number 1.\n",
    "\n",
    "To verify that this is indeed a binary mask, we can query for the minimum and maximum value using the `np.min()` and `np.max()` functions:\n"
   ]
  },
  {
   "cell_type": "code",
   "execution_count": null,
   "id": "8ba26187",
   "metadata": {
    "tags": []
   },
   "outputs": [],
   "source": []
  },
  {
   "cell_type": "markdown",
   "id": "a4a645f3",
   "metadata": {},
   "source": [
    "## Manual Extraction of Properties\n",
    "\n",
    "Now we can for example use this mask to extract and print the intensity values of the pixels that belong to this nucleus from the original image."
   ]
  },
  {
   "cell_type": "code",
   "execution_count": null,
   "id": "14b078be",
   "metadata": {
    "tags": []
   },
   "outputs": [],
   "source": []
  },
  {
   "cell_type": "markdown",
   "id": "3b8e289d",
   "metadata": {},
   "source": [
    "We can now calculate and print for example the **mean intensity** using the `np.mean()` function:"
   ]
  },
  {
   "cell_type": "code",
   "execution_count": null,
   "id": "d67cc4cc",
   "metadata": {
    "tags": []
   },
   "outputs": [],
   "source": []
  },
  {
   "cell_type": "markdown",
   "id": "bbd5215f",
   "metadata": {},
   "source": [
    "Or we can measure and print the area in pixels of the nucleus 1, which simply corresponds to the total number of pixels that have the value `True` in the binary mask. We can do this by using the `np.sum()` function:"
   ]
  },
  {
   "cell_type": "code",
   "execution_count": null,
   "id": "67c4a2a7",
   "metadata": {
    "tags": []
   },
   "outputs": [],
   "source": []
  },
  {
   "cell_type": "markdown",
   "id": "3646ff7b",
   "metadata": {},
   "source": [
    "To convert the area to a more meaningful unit, such as micrometers squared, we need to know the pixel size of the image.\n",
    "\n",
    "If we assume a pixel size of 0.325 micrometers, we can convert the area from pixels to square micrometers by multiplying by the square of the pixel size:"
   ]
  },
  {
   "cell_type": "code",
   "execution_count": null,
   "id": "2ffbc692",
   "metadata": {
    "tags": []
   },
   "outputs": [],
   "source": []
  },
  {
   "cell_type": "markdown",
   "id": "e6702e3c",
   "metadata": {},
   "source": [
    "## Automated Extraction of Properties\n",
    "\n",
    "We could definitely implement a function that would automate the extraction of intensity values or the area for all nuclei in the labeled image, as well as implement more complex measurements but luckily, we don't have to do it ourselves, as there are libraries that can help us with this task and more in a very efficient way.\n",
    "\n",
    "The [`skimage.measure`](https://scikit-image.org/docs/stable/api/skimage.measure.html) module from the **scikit-image** package provides several tools to measure properties of image regions. It is especially powerful when working with **labeled segmentation masks**, where each object in an image is assigned a unique integer label.\n",
    "\n",
    "This module is a foundational tool for extracting morphological and intensity-based features from binary or labeled images.\n",
    "\n",
    "A useful function in `skimage.measure` is [`regionprops`](https://scikit-image.org/docs/stable/api/skimage.measure.html#skimage.measure.regionprops):\n",
    "\n",
    "**Parameters:**\n",
    "- `label_image` — A 2D or 3D array where **each unique non-zero integer** corresponds to a labeled object (typically from `skimage.measure.label`).\n",
    "- `intensity_image` *(optional)* — The raw grayscale image associated with the label mask, used to compute intensity features like mean or standard deviation.\n",
    "\n",
    "For example:\n",
    "\n",
    "```python\n",
    "skimage.measure.regionprops(label_image, image)\n",
    "```\n",
    "\n",
    "**Returns:**\n",
    "- A `list` of `RegionProperties` objects — one for each labeled object. **Each object contains attributes describing shape, position, and optionally intensity** and can be accessed with dot notation (e.g., `RegionProperties.area` or `RegionProperties.mean_intensity`).\n",
    "\n",
    "In the table below, we summarize some of the common features that can be extracted using this function:\n",
    "\n",
    "| Measurement | Description |\n",
    "|-------------|-------------|\n",
    "| area | Measures the number of pixels in the object (size) |\n",
    "| perimeter | Approximates the length around the object |\n",
    "| eccentricity | Quantifies elongation—how stretched the shape is |\n",
    "| solidity | Indicates shape irregularity by comparing area to convex area |\n",
    "| extent | Compares object area to its bounding box area |\n",
    "| orientation | Measures the angle of the major axis of the object |\n",
    "| mean_intensity | Averages pixel values inside the region (if intensity image is given) |\n",
    "| max_intensity | Finds the brightest pixel value inside the object |\n",
    "| intensity_image | Extracts the raw intensity image cropped to the object |\n",
    "| centroid | Finds the object's center of mass (position in the image) |\n",
    "| bbox | Gives the bounding box coordinates of the object |\n",
    "\n",
    "Let's create a variable named `props` to store the result of the `skimage.measure.regionprops` function using the `labeled_mask` and the original `image` as inputs:"
   ]
  },
  {
   "cell_type": "code",
   "execution_count": null,
   "id": "ed9c473a",
   "metadata": {
    "tags": []
   },
   "outputs": [],
   "source": []
  },
  {
   "cell_type": "markdown",
   "id": "574ec66e",
   "metadata": {},
   "source": [
    "Since the `props` variable is a `list` of `RegionProperties`, we can access the properties of each object using indexing. For example, to access the properties of the first object (or the first nucleus), we can use `props[0]`."
   ]
  },
  {
   "cell_type": "code",
   "execution_count": null,
   "id": "b95b84cd",
   "metadata": {
    "tags": []
   },
   "outputs": [],
   "source": []
  },
  {
   "cell_type": "markdown",
   "id": "b5a9ca54",
   "metadata": {},
   "source": [
    "From the [`regionprops`](https://scikit-image.org/docs/stable/api/skimage.measure.html#skimage.measure.regionprops) documentation (and as mentioned above), we can see that we can access a lot of properties for each `RegionProperties` in the list. For example, to get the **mean intensity** of the first region (nucleus), we can use `props[0].mean_intensity`:"
   ]
  },
  {
   "cell_type": "code",
   "execution_count": null,
   "id": "a6aa286f",
   "metadata": {
    "tags": []
   },
   "outputs": [],
   "source": []
  },
  {
   "cell_type": "markdown",
   "id": "b2b4862d",
   "metadata": {},
   "source": [
    "As you can see, is the same value we obtained manually before.\n",
    "\n",
    "<p class=\"alert alert-info\">\n",
    "    <strong>Note:</strong> To see all the available properties for <em>RegionProperties</em> use the <em>dir()</em> function which will list all the attributes and methods of the object: <em>dir(props[0])</em>. Ignore all the methods that start with <em>__</em> (double underscore) as they are special methods in Python.\n",
    "</p>\n",
    "\n",
    "Let's now extract the **mean intensity** of all nuclei and plot it using `matplotlib` in an histogram:"
   ]
  },
  {
   "cell_type": "code",
   "execution_count": null,
   "id": "55f0dd72",
   "metadata": {
    "tags": []
   },
   "outputs": [],
   "source": []
  },
  {
   "cell_type": "markdown",
   "id": "b82b2b5b",
   "metadata": {},
   "source": [
    "If you remember from the [Classic Segmentation](../05_segmentation/classic/classic.md) section, the dataset we are using contains images of **HeLa cells** stained with **DAPI**, a fluorescent dye that binds to DNA.\n",
    "\n",
    "We know that:\n",
    "- In normal condition, mammalian cells in the **G1** phase of the cell cycle are **diploid** and thus have two sets of chromosomes (**2n**).\n",
    "- Cells in the **G2** phase and are **tetraploid** (**4n**).\n",
    "- During **S** phase (DNA doubling), cells have a DNA content ranging between **2n** and **4n**.\n",
    "\n",
    "Therefore, by looking at the DNA content (2n vs 4n) in a cell nucleus, it should be possible to discriminate between the cell cycle phases.\n",
    "\n",
    "Since DAPI labels the DNA depending on the DNA content, by **measuring** the **total DAPI nuclear intensity (integrated density)**, we might be able to **plot the cell cycle phase** distribution of the entire population of cells.\n",
    "\n",
    "The total intensity, also known as **integrated density**, is defined as the **sum of the pixel intensities within a region of interest**, which in our case is the nucleus. To calculate it we can use the `image_intensity` attribute of the `RegionProperties` object, which contains the values of all the pixels in the region of interest (the nucleus) and sum them up using the `np.sum()` function.\n",
    "\n",
    "For example:"
   ]
  },
  {
   "cell_type": "code",
   "execution_count": null,
   "id": "8c000f5c",
   "metadata": {
    "tags": []
   },
   "outputs": [],
   "source": []
  },
  {
   "cell_type": "markdown",
   "id": "69c77513",
   "metadata": {},
   "source": [
    "### ✍️ Exercise: Plot DAPI Nuclear Integrated Density Distribution from the Entire Dataset\n",
    "\n",
    "In this exercise, let's try to:\n",
    "- create a `dataset_integrated_density_list` list variable\n",
    "- write a `for loop` that will iterate over (load) all pairs of images (raw and labeled) in the dataset\n",
    "    - extract the total integrated density of each nucleus in each image\n",
    "    - store the results in a list named `dataset_integrated_density_list`\n",
    "- plot the distribution of the integrated density values using `matplotlib` and a histogram (bin size of 250)"
   ]
  },
  {
   "cell_type": "code",
   "execution_count": null,
   "id": "459294c1",
   "metadata": {
    "tags": []
   },
   "outputs": [],
   "source": []
  },
  {
   "cell_type": "markdown",
   "id": "fcf30588",
   "metadata": {},
   "source": [
    "## From Properties to Tables\n",
    "\n",
    "There is another useful function in the `skimage.measure` module called [`regionprops_table`](https://scikit-image.org/docs/stable/api/skimage.measure.html#skimage.measure.regionprops_table) that allows us to create a table of properties for each region in the labeled image.\n",
    "\n",
    "Looking at the [documentation](https://scikit-image.org/docs/stable/api/skimage.measure.html#skimage.measure.regionprops_table), we can see that this function, instead of a `list`, returns a `dict` object (dictionary type as we've seen in [Data Structures: Dictionaries](../03_python_basics/python_basics_notebook.ipynb)) where each property is a `key` and the `values` are arrays containing the property values for each region in the labeled image.\n",
    "\n",
    "The main attribute of this function are:\n",
    "- **label_image**: The labeled image where each unique integer corresponds to a labeled object.\n",
    "- **intensity_image** *(optional)*: The raw grayscale image associated with the label mask (used to compute intensity features).\n",
    "- **properties** *(optional)*: A list of properties to include in the table. If not specified, all properties will be included.\n",
    "\n",
    "For example:\n",
    "\n",
    "```python\n",
    "props_dict = regionprops_table(label_image, raw_image, properties=['area', 'perimeter'])\n",
    "```\n",
    "\n",
    "Let's see how we can use this in practice and create a DataFrame with the `image_intensity` and `area` properties for each nucleus in the labeled image.\n",
    "\n",
    "First we need to reload one raw image and the corresponding labeled image:x"
   ]
  },
  {
   "cell_type": "code",
   "execution_count": null,
   "id": "f29adf7d",
   "metadata": {
    "tags": []
   },
   "outputs": [],
   "source": []
  },
  {
   "cell_type": "markdown",
   "id": "c01a99ec",
   "metadata": {},
   "source": [
    "Create the dictionary with the `regionprops_table` function that includes the `label`, `image_intensity`, and `area` properties, and print the keys (remember this is a `dict`) of the results:"
   ]
  },
  {
   "cell_type": "code",
   "execution_count": null,
   "id": "3988bbb2",
   "metadata": {
    "tags": []
   },
   "outputs": [],
   "source": []
  },
  {
   "cell_type": "markdown",
   "id": "28ff276b",
   "metadata": {},
   "source": [
    "Since `props_dict` is a dictionary, we can access the properties of each region using the keys of the dictionary. Each key corresponds to a property, and the associated value is an array containing the property values for each region.\n",
    "\n",
    "For example, to access the area of each region, we can do:\n",
    "\n",
    "```python\n",
    "areas = props_dict['area']\n",
    "```\n",
    "\n",
    "Similarly, we can access and print `image_intensity` property (print only the first three values):"
   ]
  },
  {
   "cell_type": "code",
   "execution_count": null,
   "id": "3df8650c",
   "metadata": {
    "tags": []
   },
   "outputs": [],
   "source": []
  },
  {
   "cell_type": "markdown",
   "id": "d942bc87",
   "metadata": {},
   "source": [
    "There is not yet an evident advantage of using `regionprops_table` over `regionprops` at this point, but this method becomes useful when we want to create a table with all the properties of each region in the labeled image as well as save it as a `.csv` file. In fact, this `props_dict` output can be used to directly create a [`**pandas**`](https://pandas.pydata.org/docs/) DataFrame.\n",
    "\n",
    "[**pandas**](https://pandas.pydata.org/docs/) is a powerful Python library for data manipulation and analysis. It provides high-performance, easy-to-use data structures and tools for working with structured data. The main data structure in pandas is the **DataFrame**, which is a 2-dimensional labeled data structure with columns of potentially different types (like numbers, strings, arrays, etc.).\n",
    "\n",
    "Let's now create a DataFrame with the `props_dict` variable and print it:\n"
   ]
  },
  {
   "cell_type": "code",
   "execution_count": null,
   "id": "fc22067b",
   "metadata": {
    "tags": []
   },
   "outputs": [],
   "source": []
  },
  {
   "cell_type": "markdown",
   "id": "cb7bbbe7",
   "metadata": {},
   "source": [
    "We can notice that now we converted the `dict` file in a more tabular format, which is easier to work with for data analysis and manipulation tasks. The rows of the DataFrame correspond to the regions (nuclei) in the labeled image, and the columns correspond to the properties of each region.\n",
    "\n",
    "For example we can now access the `image_intensity` property by the column name as key:"
   ]
  },
  {
   "cell_type": "code",
   "execution_count": null,
   "id": "1535fcc0",
   "metadata": {
    "tags": []
   },
   "outputs": [],
   "source": []
  },
  {
   "cell_type": "markdown",
   "id": "f1ba2181",
   "metadata": {},
   "source": [
    "And if we want to get the integrated density values for the fist nucleus, we can do (similarly as before):"
   ]
  },
  {
   "cell_type": "code",
   "execution_count": null,
   "id": "76f4667a",
   "metadata": {
    "tags": []
   },
   "outputs": [],
   "source": []
  },
  {
   "cell_type": "markdown",
   "id": "3cf17a78",
   "metadata": {},
   "source": [
    "And, similarly to before, to get the integrated density values for all nuclei, we can use create a list where we sum the pixel intensities for each nucleus:"
   ]
  },
  {
   "cell_type": "code",
   "execution_count": null,
   "id": "006ce51e",
   "metadata": {
    "tags": []
   },
   "outputs": [],
   "source": []
  },
  {
   "cell_type": "markdown",
   "id": "c7730266",
   "metadata": {},
   "source": [
    "## Manipulating tables as dataframes\n"
   ]
  },
  {
   "cell_type": "markdown",
   "id": "2afb3307",
   "metadata": {},
   "source": [
    "Now that we have converted the measurements table into a DataFrame, we can start manipulating it.\n",
    "\n",
    "For example, we can create a new column in the DataFrame with the integrated density per nucleus, and then display the first few rows of the DataFrame using the `head()` method:"
   ]
  },
  {
   "cell_type": "code",
   "execution_count": null,
   "id": "c722c5ee",
   "metadata": {
    "tags": []
   },
   "outputs": [],
   "source": []
  },
  {
   "cell_type": "markdown",
   "id": "bf178123",
   "metadata": {},
   "source": [
    "Dataframe makes conditional filtering and selection easy. We can use the `loc[...]` method to select rows and columns <u>by their labels</u>.\n",
    "\n",
    "For example, let's identify the percentage of nuclei that are larger than average and have high integrated density:"
   ]
  },
  {
   "cell_type": "code",
   "execution_count": null,
   "id": "a5dde3db",
   "metadata": {
    "tags": []
   },
   "outputs": [],
   "source": []
  },
  {
   "cell_type": "markdown",
   "id": "bb881514",
   "metadata": {},
   "source": [
    "<div class=\"alert alert-info\">\n",
    "  <strong>Note:</strong> Using <em>.loc[...]</em> is the recommended and idiomatic way to filter rows in a pandas DataFrame. Here's why:\n",
    "<ul>\n",
    "  <li><strong>Explicit row filtering</strong>: Clearly signals that you're selecting rows based on a condition.</li>\n",
    "  <li><strong>Preserves structure</strong>: Returns a full DataFrame with all metadata (index, column names), unlike <em>df[condition]</em> which may behave ambiguously.</li>\n",
    "  <li><strong>Avoids chained indexing issues</strong>: Prevents bugs related to operating on a copy vs. a view.</li>\n",
    "  <li><strong>Safe for assignment</strong>: Enables safe in-place updates (e.g., <em>df.loc[condition, 'col'] = value</em>).</li>\n",
    "  <li><strong>Readable and standard</strong>: Immediately recognizable and understandable to other pandas users.</li>\n",
    "</ul>\n",
    "</div>\n"
   ]
  },
  {
   "cell_type": "markdown",
   "id": "0bac245e",
   "metadata": {},
   "source": [
    "We can then extract the labels of large and bright nuclei from the DataFrame and create a binary mask showing only those selected nuclei in the original image using the `np.isin(against, for)` function."
   ]
  },
  {
   "cell_type": "code",
   "execution_count": null,
   "id": "4d78fdd6",
   "metadata": {
    "tags": []
   },
   "outputs": [],
   "source": []
  },
  {
   "cell_type": "markdown",
   "id": "aef5760d",
   "metadata": {},
   "source": [
    "Once the nuclei of interest have been selected in the dataframe, it is possible to visualize them in the labeled image."
   ]
  },
  {
   "cell_type": "code",
   "execution_count": null,
   "id": "08c6da00",
   "metadata": {
    "tags": []
   },
   "outputs": [],
   "source": []
  },
  {
   "cell_type": "markdown",
   "id": "0ce72f54",
   "metadata": {},
   "source": [
    "It is also possible to select <u>by position</u> using `.iloc[...]`.\n",
    "\n",
    "For example, to select the first 10 rows of the DataFrame, we can do:"
   ]
  },
  {
   "cell_type": "code",
   "execution_count": null,
   "id": "aaa0ebd4",
   "metadata": {
    "tags": []
   },
   "outputs": [],
   "source": []
  },
  {
   "cell_type": "markdown",
   "id": "32322308",
   "metadata": {},
   "source": [
    "To select the first 10 rows and the first 3 columns, we can do:"
   ]
  },
  {
   "cell_type": "code",
   "execution_count": null,
   "id": "7918e2a3",
   "metadata": {
    "tags": []
   },
   "outputs": [],
   "source": []
  },
  {
   "cell_type": "markdown",
   "id": "71e289f5",
   "metadata": {},
   "source": [
    "## Saving dataframes to CSV\n",
    "\n",
    "One of the most useful features of pandas is the ability to easily save data to various file formats. Let's save our measurements to a CSV file that can be opened in spreadsheet software like Excel:\n"
   ]
  },
  {
   "cell_type": "code",
   "execution_count": null,
   "id": "9566cf27",
   "metadata": {
    "tags": []
   },
   "outputs": [],
   "source": []
  },
  {
   "cell_type": "markdown",
   "id": "9a3b31ff",
   "metadata": {},
   "source": [
    "The other way around, CSV files can then be loaded back into a pandas DataFrame using the `read_csv` method:"
   ]
  },
  {
   "cell_type": "code",
   "execution_count": null,
   "id": "13c222d4",
   "metadata": {
    "tags": []
   },
   "outputs": [],
   "source": []
  }
 ],
 "metadata": {
  "kernelspec": {
   "display_name": ".venv",
   "language": "python",
   "name": "python3"
  },
  "language_info": {
   "codemirror_mode": {
    "name": "ipython",
    "version": 3
   },
   "file_extension": ".py",
   "mimetype": "text/x-python",
   "name": "python",
   "nbconvert_exporter": "python",
   "pygments_lexer": "ipython3",
   "version": "3.12.8"
  }
 },
 "nbformat": 4,
 "nbformat_minor": 5
}
